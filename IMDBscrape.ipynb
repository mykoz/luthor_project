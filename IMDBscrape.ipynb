{
 "cells": [
  {
   "cell_type": "code",
   "execution_count": 371,
   "metadata": {
    "collapsed": true
   },
   "outputs": [],
   "source": [
    "import requests\n",
    "import urlparse\n",
    "import os\n",
    "import pickle\n",
    "from bs4 import BeautifulSoup\n",
    "import urllib2\n",
    "import re\n",
    "from datetime import datetime\n",
    "from dateutil.parser import *"
   ]
  },
  {
   "cell_type": "code",
   "execution_count": 2,
   "metadata": {
    "collapsed": false
   },
   "outputs": [],
   "source": [
    "url = 'http://www.imdb.com/title/tt1430607/'\n",
    "#http://www.imdb.com/search/title?genres=animation&title_type=feature&sort=moviemeter,asc\n",
    "\n",
    "response = requests.get(url)"
   ]
  },
  {
   "cell_type": "code",
   "execution_count": 635,
   "metadata": {
    "collapsed": true
   },
   "outputs": [],
   "source": [
    "def get_imdb_soup(url):\n",
    "    response = requests.get(url)\n",
    "    page = response.text\n",
    "    return BeautifulSoup(page) #for some reason cannot get attributes (ie.title,a,div) from prettify\n",
    "    "
   ]
  },
  {
   "cell_type": "code",
   "execution_count": 626,
   "metadata": {
    "collapsed": true
   },
   "outputs": [
    {
     "data": {
      "text/plain": [
       "['http://www.imdb.com/search/title?genres=animation&sort=moviemeter,asc&start=1&title_type=feature',\n",
       " 'http://www.imdb.com/search/title?genres=animation&sort=moviemeter,asc&start=51&title_type=feature',\n",
       " 'http://www.imdb.com/search/title?genres=animation&sort=moviemeter,asc&start=101&title_type=feature',\n",
       " 'http://www.imdb.com/search/title?genres=animation&sort=moviemeter,asc&start=151&title_type=feature',\n",
       " 'http://www.imdb.com/search/title?genres=animation&sort=moviemeter,asc&start=201&title_type=feature',\n",
       " 'http://www.imdb.com/search/title?genres=animation&sort=moviemeter,asc&start=251&title_type=feature',\n",
       " 'http://www.imdb.com/search/title?genres=animation&sort=moviemeter,asc&start=301&title_type=feature',\n",
       " 'http://www.imdb.com/search/title?genres=animation&sort=moviemeter,asc&start=351&title_type=feature',\n",
       " 'http://www.imdb.com/search/title?genres=animation&sort=moviemeter,asc&start=401&title_type=feature',\n",
       " 'http://www.imdb.com/search/title?genres=animation&sort=moviemeter,asc&start=451&title_type=feature',\n",
       " 'http://www.imdb.com/search/title?genres=animation&sort=moviemeter,asc&start=501&title_type=feature',\n",
       " 'http://www.imdb.com/search/title?genres=animation&sort=moviemeter,asc&start=551&title_type=feature',\n",
       " 'http://www.imdb.com/search/title?genres=animation&sort=moviemeter,asc&start=601&title_type=feature',\n",
       " 'http://www.imdb.com/search/title?genres=animation&sort=moviemeter,asc&start=651&title_type=feature',\n",
       " 'http://www.imdb.com/search/title?genres=animation&sort=moviemeter,asc&start=701&title_type=feature',\n",
       " 'http://www.imdb.com/search/title?genres=animation&sort=moviemeter,asc&start=751&title_type=feature',\n",
       " 'http://www.imdb.com/search/title?genres=animation&sort=moviemeter,asc&start=801&title_type=feature',\n",
       " 'http://www.imdb.com/search/title?genres=animation&sort=moviemeter,asc&start=851&title_type=feature',\n",
       " 'http://www.imdb.com/search/title?genres=animation&sort=moviemeter,asc&start=901&title_type=feature',\n",
       " 'http://www.imdb.com/search/title?genres=animation&sort=moviemeter,asc&start=951&title_type=feature',\n",
       " 'http://www.imdb.com/search/title?genres=animation&sort=moviemeter,asc&start=1001&title_type=feature',\n",
       " 'http://www.imdb.com/search/title?genres=animation&sort=moviemeter,asc&start=1051&title_type=feature',\n",
       " 'http://www.imdb.com/search/title?genres=animation&sort=moviemeter,asc&start=1101&title_type=feature',\n",
       " 'http://www.imdb.com/search/title?genres=animation&sort=moviemeter,asc&start=1151&title_type=feature',\n",
       " 'http://www.imdb.com/search/title?genres=animation&sort=moviemeter,asc&start=1201&title_type=feature',\n",
       " 'http://www.imdb.com/search/title?genres=animation&sort=moviemeter,asc&start=1251&title_type=feature',\n",
       " 'http://www.imdb.com/search/title?genres=animation&sort=moviemeter,asc&start=1301&title_type=feature',\n",
       " 'http://www.imdb.com/search/title?genres=animation&sort=moviemeter,asc&start=1351&title_type=feature',\n",
       " 'http://www.imdb.com/search/title?genres=animation&sort=moviemeter,asc&start=1401&title_type=feature',\n",
       " 'http://www.imdb.com/search/title?genres=animation&sort=moviemeter,asc&start=1451&title_type=feature',\n",
       " 'http://www.imdb.com/search/title?genres=animation&sort=moviemeter,asc&start=1501&title_type=feature',\n",
       " 'http://www.imdb.com/search/title?genres=animation&sort=moviemeter,asc&start=1551&title_type=feature',\n",
       " 'http://www.imdb.com/search/title?genres=animation&sort=moviemeter,asc&start=1601&title_type=feature',\n",
       " 'http://www.imdb.com/search/title?genres=animation&sort=moviemeter,asc&start=1651&title_type=feature',\n",
       " 'http://www.imdb.com/search/title?genres=animation&sort=moviemeter,asc&start=1701&title_type=feature',\n",
       " 'http://www.imdb.com/search/title?genres=animation&sort=moviemeter,asc&start=1751&title_type=feature',\n",
       " 'http://www.imdb.com/search/title?genres=animation&sort=moviemeter,asc&start=1801&title_type=feature',\n",
       " 'http://www.imdb.com/search/title?genres=animation&sort=moviemeter,asc&start=1851&title_type=feature',\n",
       " 'http://www.imdb.com/search/title?genres=animation&sort=moviemeter,asc&start=1901&title_type=feature',\n",
       " 'http://www.imdb.com/search/title?genres=animation&sort=moviemeter,asc&start=1951&title_type=feature',\n",
       " 'http://www.imdb.com/search/title?genres=animation&sort=moviemeter,asc&start=2001&title_type=feature',\n",
       " 'http://www.imdb.com/search/title?genres=animation&sort=moviemeter,asc&start=2051&title_type=feature',\n",
       " 'http://www.imdb.com/search/title?genres=animation&sort=moviemeter,asc&start=2101&title_type=feature',\n",
       " 'http://www.imdb.com/search/title?genres=animation&sort=moviemeter,asc&start=2151&title_type=feature',\n",
       " 'http://www.imdb.com/search/title?genres=animation&sort=moviemeter,asc&start=2201&title_type=feature',\n",
       " 'http://www.imdb.com/search/title?genres=animation&sort=moviemeter,asc&start=2251&title_type=feature',\n",
       " 'http://www.imdb.com/search/title?genres=animation&sort=moviemeter,asc&start=2301&title_type=feature',\n",
       " 'http://www.imdb.com/search/title?genres=animation&sort=moviemeter,asc&start=2351&title_type=feature',\n",
       " 'http://www.imdb.com/search/title?genres=animation&sort=moviemeter,asc&start=2401&title_type=feature',\n",
       " 'http://www.imdb.com/search/title?genres=animation&sort=moviemeter,asc&start=2451&title_type=feature',\n",
       " 'http://www.imdb.com/search/title?genres=animation&sort=moviemeter,asc&start=2501&title_type=feature',\n",
       " 'http://www.imdb.com/search/title?genres=animation&sort=moviemeter,asc&start=2551&title_type=feature',\n",
       " 'http://www.imdb.com/search/title?genres=animation&sort=moviemeter,asc&start=2601&title_type=feature',\n",
       " 'http://www.imdb.com/search/title?genres=animation&sort=moviemeter,asc&start=2651&title_type=feature',\n",
       " 'http://www.imdb.com/search/title?genres=animation&sort=moviemeter,asc&start=2701&title_type=feature',\n",
       " 'http://www.imdb.com/search/title?genres=animation&sort=moviemeter,asc&start=2751&title_type=feature',\n",
       " 'http://www.imdb.com/search/title?genres=animation&sort=moviemeter,asc&start=2801&title_type=feature',\n",
       " 'http://www.imdb.com/search/title?genres=animation&sort=moviemeter,asc&start=2851&title_type=feature',\n",
       " 'http://www.imdb.com/search/title?genres=animation&sort=moviemeter,asc&start=2901&title_type=feature',\n",
       " 'http://www.imdb.com/search/title?genres=animation&sort=moviemeter,asc&start=2951&title_type=feature',\n",
       " 'http://www.imdb.com/search/title?genres=animation&sort=moviemeter,asc&start=3001&title_type=feature',\n",
       " 'http://www.imdb.com/search/title?genres=animation&sort=moviemeter,asc&start=3051&title_type=feature',\n",
       " 'http://www.imdb.com/search/title?genres=animation&sort=moviemeter,asc&start=3101&title_type=feature',\n",
       " 'http://www.imdb.com/search/title?genres=animation&sort=moviemeter,asc&start=3151&title_type=feature',\n",
       " 'http://www.imdb.com/search/title?genres=animation&sort=moviemeter,asc&start=3201&title_type=feature',\n",
       " 'http://www.imdb.com/search/title?genres=animation&sort=moviemeter,asc&start=3251&title_type=feature',\n",
       " 'http://www.imdb.com/search/title?genres=animation&sort=moviemeter,asc&start=3301&title_type=feature',\n",
       " 'http://www.imdb.com/search/title?genres=animation&sort=moviemeter,asc&start=3351&title_type=feature',\n",
       " 'http://www.imdb.com/search/title?genres=animation&sort=moviemeter,asc&start=3401&title_type=feature',\n",
       " 'http://www.imdb.com/search/title?genres=animation&sort=moviemeter,asc&start=3451&title_type=feature',\n",
       " 'http://www.imdb.com/search/title?genres=animation&sort=moviemeter,asc&start=3501&title_type=feature',\n",
       " 'http://www.imdb.com/search/title?genres=animation&sort=moviemeter,asc&start=3551&title_type=feature',\n",
       " 'http://www.imdb.com/search/title?genres=animation&sort=moviemeter,asc&start=3601&title_type=feature',\n",
       " 'http://www.imdb.com/search/title?genres=animation&sort=moviemeter,asc&start=3651&title_type=feature',\n",
       " 'http://www.imdb.com/search/title?genres=animation&sort=moviemeter,asc&start=3701&title_type=feature',\n",
       " 'http://www.imdb.com/search/title?genres=animation&sort=moviemeter,asc&start=3751&title_type=feature',\n",
       " 'http://www.imdb.com/search/title?genres=animation&sort=moviemeter,asc&start=3801&title_type=feature',\n",
       " 'http://www.imdb.com/search/title?genres=animation&sort=moviemeter,asc&start=3851&title_type=feature',\n",
       " 'http://www.imdb.com/search/title?genres=animation&sort=moviemeter,asc&start=3901&title_type=feature',\n",
       " 'http://www.imdb.com/search/title?genres=animation&sort=moviemeter,asc&start=3951&title_type=feature',\n",
       " 'http://www.imdb.com/search/title?genres=animation&sort=moviemeter,asc&start=4001&title_type=feature',\n",
       " 'http://www.imdb.com/search/title?genres=animation&sort=moviemeter,asc&start=4051&title_type=feature',\n",
       " 'http://www.imdb.com/search/title?genres=animation&sort=moviemeter,asc&start=4101&title_type=feature',\n",
       " 'http://www.imdb.com/search/title?genres=animation&sort=moviemeter,asc&start=4151&title_type=feature']"
      ]
     },
     "execution_count": 626,
     "metadata": {},
     "output_type": "execute_result"
    }
   ],
   "source": [
    "numtitles = 4191\n",
    "\n",
    "def iterurl(num_titles):\n",
    "    i = 1\n",
    "    urlist = ['http://www.imdb.com/search/title?genres=animation&sort=moviemeter,asc&start=1&title_type=feature']\n",
    "    urlfront = \"http://www.imdb.com/search/title?genres=animation&sort=moviemeter,asc&start=\"\n",
    "    urlback = \"&title_type=feature\"\n",
    "    while i < num_titles:\n",
    "        i += 50\n",
    "        url = urlfront+str(i)+urlback\n",
    "        if i > (num_titles-40):\n",
    "            break\n",
    "        urlist.append(url)\n",
    "    return urlist\n",
    "        \n",
    "imdb_base_url_list = iterurl(numtitles)\n",
    "imdb_base_url_list"
   ]
  },
  {
   "cell_type": "code",
   "execution_count": 636,
   "metadata": {
    "collapsed": true
   },
   "outputs": [],
   "source": [
    "base_url = 'http://www.imdb.com/search/title?genres=animation&sort=moviemeter,asc&start=1&title_type=feature'"
   ]
  },
  {
   "cell_type": "code",
   "execution_count": 641,
   "metadata": {
    "collapsed": false,
    "scrolled": true
   },
   "outputs": [],
   "source": [
    "def get_imdb_links(baseurl):\n",
    "    basesoup = get_imdb_soup(baseurl)\n",
    "    mvlinklist = []\n",
    "    for a in basesoup.find_all('a'):\n",
    "        if ('/title/tt' in a['href']) & (len(a['href']) == 17):\n",
    "            mvlinklist.append(a['href'])\n",
    "    return list(set(mvlinklist))\n",
    "\n",
    "#get_imdb_links(base_url)\n"
   ]
  },
  {
   "cell_type": "code",
   "execution_count": 5,
   "metadata": {
    "collapsed": true
   },
   "outputs": [],
   "source": [
    "soup = BeautifulSoup(page)"
   ]
  },
  {
   "cell_type": "code",
   "execution_count": 6,
   "metadata": {
    "collapsed": true
   },
   "outputs": [],
   "source": [
    "#print soup.prettify()"
   ]
  },
  {
   "cell_type": "code",
   "execution_count": 7,
   "metadata": {
    "collapsed": false
   },
   "outputs": [],
   "source": [
    "#print soup.find(\"a\")"
   ]
  },
  {
   "cell_type": "code",
   "execution_count": 8,
   "metadata": {
    "collapsed": false
   },
   "outputs": [],
   "source": [
    "#print soup.a.prettify()"
   ]
  },
  {
   "cell_type": "code",
   "execution_count": 9,
   "metadata": {
    "collapsed": false
   },
   "outputs": [],
   "source": [
    "for link in soup.find('link'):\n",
    "    print link"
   ]
  },
  {
   "cell_type": "code",
   "execution_count": 10,
   "metadata": {
    "collapsed": false
   },
   "outputs": [
    {
     "data": {
      "text/plain": [
       "<link href=\"http://www.imdb.com/title/tt1430607/\" rel=\"canonical\"/>"
      ]
     },
     "execution_count": 10,
     "metadata": {},
     "output_type": "execute_result"
    }
   ],
   "source": [
    "soup.link"
   ]
  },
  {
   "cell_type": "code",
   "execution_count": null,
   "metadata": {
    "collapsed": true
   },
   "outputs": [],
   "source": []
  },
  {
   "cell_type": "code",
   "execution_count": 422,
   "metadata": {
    "collapsed": true
   },
   "outputs": [],
   "source": [
    "url = 'http://www.imdb.com/title/tt2293640/'"
   ]
  },
  {
   "cell_type": "code",
   "execution_count": 423,
   "metadata": {
    "collapsed": false
   },
   "outputs": [],
   "source": []
  },
  {
   "cell_type": "code",
   "execution_count": 424,
   "metadata": {
    "collapsed": false
   },
   "outputs": [],
   "source": [
    "def get_imdb_header(imdb_soup):\n",
    "    imdb_header = imdb_soup.title\n",
    "    return imdb_header\n"
   ]
  },
  {
   "cell_type": "code",
   "execution_count": 425,
   "metadata": {
    "collapsed": false
   },
   "outputs": [],
   "source": [
    "def get_imdb_title(imdb_header):\n",
    "    header = imdb_header.text\n",
    "    imdb_title = header.split('(')[0]\n",
    "    return imdb_title\n",
    "\n",
    "    \n",
    "#get_imdb_title(imdb_header)  "
   ]
  },
  {
   "cell_type": "code",
   "execution_count": 426,
   "metadata": {
    "collapsed": false
   },
   "outputs": [],
   "source": [
    "def get_imdb_year(imdb_header):\n",
    "    header = imdb_header.text\n",
    "    year = re.findall(r'\\d+', header)\n",
    "    imdb_year = int(year[0])\n",
    "    return imdb_year\n",
    "\n",
    "    \n",
    "#imdb_year(imdb_header)"
   ]
  },
  {
   "cell_type": "code",
   "execution_count": 427,
   "metadata": {
    "collapsed": false
   },
   "outputs": [],
   "source": [
    "def get_imdb_budget(soup):\n",
    "        divs = [x.text for x in mv_soup.find_all('div')]\n",
    "        for s in divs:\n",
    "            start = 'Budget:'\n",
    "            end = ' '\n",
    "            result = re.findall('%s(.*)%s' % (start, end), s)\n",
    "            for n in result:\n",
    "                regex = re.compile(r'\\d+(?:,\\d+)*')\n",
    "                bgt = re.findall(regex,n)\n",
    "                budget =[x.replace(',','') for x in bgt]\n",
    "                budint =[int(b) for b in budget]\n",
    "        return budint[0]\n",
    "                    \n",
    "                \n",
    "\n",
    "#get_imdb_budget(mv_soup)      "
   ]
  },
  {
   "cell_type": "code",
   "execution_count": 428,
   "metadata": {
    "collapsed": false
   },
   "outputs": [],
   "source": [
    "def get_imdb_openingwknd(soup):\n",
    "        divs = [x.text for x in mv_soup.find_all('div')]\n",
    "        for s in divs:\n",
    "            start = 'Opening Weekend:'\n",
    "            end = ' '\n",
    "            result = re.findall('%s(.*)%s' % (start, end), s)\n",
    "            for n in result:\n",
    "                regex = re.compile(r'\\d+(?:,\\d+)*')\n",
    "                opnwknd = re.findall(regex,n)\n",
    "                openwknd =[x.replace(',','') for x in opnwknd]\n",
    "                openingwknd =[int(b) for b in openwknd]\n",
    "        return openingwknd[0]\n",
    "                    \n",
    "                \n",
    "\n",
    "#get_imdb_openingwknd(mv_soup)      "
   ]
  },
  {
   "cell_type": "code",
   "execution_count": 429,
   "metadata": {
    "collapsed": false
   },
   "outputs": [],
   "source": [
    "def get_imdb_gross(soup):\n",
    "        divs = [x.text for x in mv_soup.find_all('div')]\n",
    "        for s in divs:\n",
    "            start = 'Gross:'\n",
    "            end = ' '\n",
    "            result = re.findall('%s(.*)%s' % (start, end), s)\n",
    "            for n in result:\n",
    "                regex = re.compile(r'\\d+(?:,\\d+)*')\n",
    "                grs = re.findall(regex,n)\n",
    "                grss =[x.replace(',','') for x in grs]\n",
    "                gross =[int(b) for b in grss]\n",
    "        return gross[0]\n",
    "                    \n",
    "                \n",
    "#get_imdb_gross(mv_soup)      "
   ]
  },
  {
   "cell_type": "code",
   "execution_count": 431,
   "metadata": {
    "collapsed": false
   },
   "outputs": [
    {
     "data": {
      "text/plain": [
       "91"
      ]
     },
     "execution_count": 431,
     "metadata": {},
     "output_type": "execute_result"
    }
   ],
   "source": [
    "def get_imdb_runtime(soup):\n",
    "    mvlen = soup.time\n",
    "    mvtime = mvlen.text\n",
    "    runtime = re.findall(r'\\d+', mvtime)\n",
    "    imdb_runtime = int(runtime[0])\n",
    "    return imdb_runtime\n",
    "    \n",
    "                    \n",
    "                \n",
    "#get_imdb_runtime(mv_soup)   "
   ]
  },
  {
   "cell_type": "code",
   "execution_count": 417,
   "metadata": {
    "collapsed": false
   },
   "outputs": [
    {
     "data": {
      "text/plain": [
       "datetime.datetime(2015, 6, 19, 0, 0)"
      ]
     },
     "execution_count": 417,
     "metadata": {},
     "output_type": "execute_result"
    }
   ],
   "source": [
    "def get_imdb_releasedate(soup):\n",
    "    imdb_releasedate = soup.find(itemprop = 'datePublished')['content']\n",
    "    #from dateutil.parse import *\n",
    "    return parse(imdb_releasedate)\n",
    "\n",
    "#get_imdb_releasedate(mv_soup)"
   ]
  },
  {
   "cell_type": "code",
   "execution_count": 527,
   "metadata": {
    "collapsed": false
   },
   "outputs": [
    {
     "data": {
      "text/plain": [
       "56"
      ]
     },
     "execution_count": 527,
     "metadata": {},
     "output_type": "execute_result"
    }
   ],
   "source": [
    "def get_imdb_metascore(soup):\n",
    "    a = soup.find_all('a')[90].text\n",
    "    metascore = int(a.split('/')[0])\n",
    "    return metascore\n",
    "    \n",
    "#get_imdb_metascore(mv_soup)"
   ]
  },
  {
   "cell_type": "code",
   "execution_count": null,
   "metadata": {
    "collapsed": true
   },
   "outputs": [],
   "source": []
  },
  {
   "cell_type": "code",
   "execution_count": 563,
   "metadata": {
    "collapsed": false
   },
   "outputs": [
    {
     "data": {
      "text/plain": [
       "41"
      ]
     },
     "execution_count": 563,
     "metadata": {},
     "output_type": "execute_result"
    }
   ],
   "source": [
    "4191%50"
   ]
  },
  {
   "cell_type": "code",
   "execution_count": 610,
   "metadata": {
    "collapsed": false
   },
   "outputs": [
    {
     "data": {
      "text/plain": [
       "'http://www.imdb.com/search/title?genres=animation&sort=moviemeter,asc&start=1&title_type=feature'"
      ]
     },
     "execution_count": 610,
     "metadata": {},
     "output_type": "execute_result"
    }
   ],
   "source": []
  },
  {
   "cell_type": "code",
   "execution_count": 631,
   "metadata": {
    "collapsed": true
   },
   "outputs": [],
   "source": [
    "base_url = 'http://www.imdb.com/search/title?genres=animation&sort=moviemeter,asc&start=1&title_type=feature'"
   ]
  },
  {
   "cell_type": "code",
   "execution_count": null,
   "metadata": {
    "collapsed": false
   },
   "outputs": [],
   "source": [
    "    "
   ]
  },
  {
   "cell_type": "code",
   "execution_count": 633,
   "metadata": {
    "collapsed": false
   },
   "outputs": [
    {
     "name": "stdout",
     "output_type": "stream",
     "text": [
      "['/title/tt0126029/', '/title/tt1911658/', '/title/tt2510894/', '/title/tt0107688/', '/title/tt2245084/', '/title/tt2294629/', '/title/tt0435761/', '/title/tt2267968/', '/title/tt1985949/', '/title/tt0398286/', '/title/tt0103639/', '/title/tt0110357/', '/title/tt1490017/', '/title/tt2452042/', '/title/tt0114709/', '/title/tt2096673/', '/title/tt3606756/', '/title/tt0837562/', '/title/tt1690953/', '/title/tt0119282/', '/title/tt0245429/', '/title/tt2974918/', '/title/tt0317705/', '/title/tt1979388/', '/title/tt2277860/', '/title/tt2224026/', '/title/tt0198781/', '/title/tt2262227/', '/title/tt0382932/', '/title/tt0114148/', '/title/tt1772341/', '/title/tt3819668/', '/title/tt2948356/', '/title/tt2709768/', '/title/tt1646971/', '/title/tt1754656/', '/title/tt2293640/', '/title/tt0061852/', '/title/tt1323594/', '/title/tt0120762/', '/title/tt0442933/', '/title/tt2141773/', '/title/tt0892769/', '/title/tt0266543/', '/title/tt0101414/', '/title/tt0372588/', '/title/tt2401878/', '/title/tt1453405/', '/title/tt1049413/', '/title/tt0317219/']\n"
     ]
    }
   ],
   "source": [
    "mwsp = get_imdb_soup(base_url)\n",
    "mv_link_list = []\n",
    "for a in mwsp.find_all('a'):\n",
    "    if ('/title/tt' in a['href']) & (len(a['href']) == 17):\n",
    "        mv_link_list.append(a['href'])\n",
    "print list(set(mv_link_list))"
   ]
  },
  {
   "cell_type": "code",
   "execution_count": null,
   "metadata": {
    "collapsed": true
   },
   "outputs": [],
   "source": []
  },
  {
   "cell_type": "code",
   "execution_count": null,
   "metadata": {
    "collapsed": true
   },
   "outputs": [],
   "source": []
  },
  {
   "cell_type": "code",
   "execution_count": null,
   "metadata": {
    "collapsed": true
   },
   "outputs": [],
   "source": []
  },
  {
   "cell_type": "code",
   "execution_count": null,
   "metadata": {
    "collapsed": true
   },
   "outputs": [],
   "source": []
  },
  {
   "cell_type": "code",
   "execution_count": null,
   "metadata": {
    "collapsed": true
   },
   "outputs": [],
   "source": []
  },
  {
   "cell_type": "code",
   "execution_count": null,
   "metadata": {
    "collapsed": true
   },
   "outputs": [],
   "source": []
  },
  {
   "cell_type": "code",
   "execution_count": null,
   "metadata": {
    "collapsed": true
   },
   "outputs": [],
   "source": []
  },
  {
   "cell_type": "code",
   "execution_count": null,
   "metadata": {
    "collapsed": true
   },
   "outputs": [],
   "source": []
  },
  {
   "cell_type": "code",
   "execution_count": null,
   "metadata": {
    "collapsed": true
   },
   "outputs": [],
   "source": []
  },
  {
   "cell_type": "code",
   "execution_count": null,
   "metadata": {
    "collapsed": true
   },
   "outputs": [],
   "source": []
  },
  {
   "cell_type": "code",
   "execution_count": null,
   "metadata": {
    "collapsed": true
   },
   "outputs": [],
   "source": []
  },
  {
   "cell_type": "code",
   "execution_count": null,
   "metadata": {
    "collapsed": true
   },
   "outputs": [],
   "source": []
  },
  {
   "cell_type": "code",
   "execution_count": null,
   "metadata": {
    "collapsed": true
   },
   "outputs": [],
   "source": []
  },
  {
   "cell_type": "code",
   "execution_count": null,
   "metadata": {
    "collapsed": true
   },
   "outputs": [],
   "source": []
  },
  {
   "cell_type": "code",
   "execution_count": null,
   "metadata": {
    "collapsed": true
   },
   "outputs": [],
   "source": []
  },
  {
   "cell_type": "code",
   "execution_count": null,
   "metadata": {
    "collapsed": true
   },
   "outputs": [],
   "source": []
  },
  {
   "cell_type": "code",
   "execution_count": null,
   "metadata": {
    "collapsed": true
   },
   "outputs": [],
   "source": []
  },
  {
   "cell_type": "code",
   "execution_count": null,
   "metadata": {
    "collapsed": true
   },
   "outputs": [],
   "source": []
  },
  {
   "cell_type": "code",
   "execution_count": null,
   "metadata": {
    "collapsed": true
   },
   "outputs": [],
   "source": []
  },
  {
   "cell_type": "code",
   "execution_count": null,
   "metadata": {
    "collapsed": true
   },
   "outputs": [],
   "source": []
  },
  {
   "cell_type": "code",
   "execution_count": null,
   "metadata": {
    "collapsed": true
   },
   "outputs": [],
   "source": []
  },
  {
   "cell_type": "code",
   "execution_count": null,
   "metadata": {
    "collapsed": true
   },
   "outputs": [],
   "source": []
  },
  {
   "cell_type": "code",
   "execution_count": null,
   "metadata": {
    "collapsed": true
   },
   "outputs": [],
   "source": []
  },
  {
   "cell_type": "code",
   "execution_count": null,
   "metadata": {
    "collapsed": true
   },
   "outputs": [],
   "source": []
  },
  {
   "cell_type": "code",
   "execution_count": null,
   "metadata": {
    "collapsed": true
   },
   "outputs": [],
   "source": []
  },
  {
   "cell_type": "code",
   "execution_count": null,
   "metadata": {
    "collapsed": true
   },
   "outputs": [],
   "source": []
  },
  {
   "cell_type": "code",
   "execution_count": null,
   "metadata": {
    "collapsed": true
   },
   "outputs": [],
   "source": []
  },
  {
   "cell_type": "code",
   "execution_count": null,
   "metadata": {
    "collapsed": true
   },
   "outputs": [],
   "source": []
  },
  {
   "cell_type": "code",
   "execution_count": 531,
   "metadata": {
    "collapsed": false
   },
   "outputs": [],
   "source": [
    "url = 'http://www.imdb.com/title/tt2096673/'"
   ]
  },
  {
   "cell_type": "code",
   "execution_count": 532,
   "metadata": {
    "collapsed": false
   },
   "outputs": [],
   "source": [
    "mv_soup = get_imdb_soup(url)\n",
    "mv_header = get_imdb_header(mv_soup)\n",
    "mv_title = get_imdb_title(mv_header)\n",
    "mv_year = get_imdb_year(mv_header)\n",
    "mv_budget = get_imdb_budget(mv_soup)\n",
    "mv_openingwknd = get_imdb_openingwknd(mv_soup)\n",
    "mv_gross = get_imdb_gross(mv_soup)\n",
    "mv_runtime = get_imdb_runtime(mv_soup)\n",
    "mv_releasedate = get_imdb_releasedate(mv_soup)\n",
    "mv_metascore = get_imdb_metascore(mv_soup)"
   ]
  },
  {
   "cell_type": "code",
   "execution_count": 533,
   "metadata": {
    "collapsed": false
   },
   "outputs": [
    {
     "name": "stdout",
     "output_type": "stream",
     "text": [
      "<title>Inside Out (2015) - IMDb</title>\n",
      "Inside Out \n",
      "2015\n",
      "175000000\n",
      "90440272\n",
      "353495492\n",
      "94\n",
      "2015-06-19 00:00:00\n",
      "94\n"
     ]
    }
   ],
   "source": [
    "print mv_header\n",
    "print mv_title\n",
    "print mv_year\n",
    "print mv_budget\n",
    "print mv_openingwknd\n",
    "print mv_gross\n",
    "print mv_runtime\n",
    "print mv_releasedate\n",
    "print mv_metascore"
   ]
  },
  {
   "cell_type": "code",
   "execution_count": null,
   "metadata": {
    "collapsed": true
   },
   "outputs": [],
   "source": []
  },
  {
   "cell_type": "code",
   "execution_count": null,
   "metadata": {
    "collapsed": false
   },
   "outputs": [],
   "source": []
  },
  {
   "cell_type": "code",
   "execution_count": null,
   "metadata": {
    "collapsed": false
   },
   "outputs": [],
   "source": [
    "  "
   ]
  },
  {
   "cell_type": "code",
   "execution_count": null,
   "metadata": {
    "collapsed": false
   },
   "outputs": [],
   "source": []
  },
  {
   "cell_type": "code",
   "execution_count": null,
   "metadata": {
    "collapsed": true
   },
   "outputs": [],
   "source": []
  }
 ],
 "metadata": {
  "kernelspec": {
   "display_name": "Python 2",
   "language": "python",
   "name": "python2"
  },
  "language_info": {
   "codemirror_mode": {
    "name": "ipython",
    "version": 2
   },
   "file_extension": ".py",
   "mimetype": "text/x-python",
   "name": "python",
   "nbconvert_exporter": "python",
   "pygments_lexer": "ipython2",
   "version": "2.7.10"
  }
 },
 "nbformat": 4,
 "nbformat_minor": 0
}

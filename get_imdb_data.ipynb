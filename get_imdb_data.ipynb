{
 "cells": [
  {
   "cell_type": "code",
   "execution_count": 1,
   "metadata": {
    "collapsed": false
   },
   "outputs": [],
   "source": [
    "import requests\n",
    "import urlparse\n",
    "import os\n",
    "import pickle\n",
    "from bs4 import BeautifulSoup\n",
    "import urllib2\n",
    "import re\n",
    "from datetime import datetime\n",
    "from dateutil.parser import *"
   ]
  },
  {
   "cell_type": "code",
   "execution_count": 2,
   "metadata": {
    "collapsed": true
   },
   "outputs": [],
   "source": [
    "# Pickling functions\n",
    "def pickle_it(data, filename):\n",
    "    with open(filename, \"wb\") as picklefile:\n",
    "        pickle.dump(data, picklefile)\n",
    "\n",
    "def load_pickle(filename):\n",
    "    with open(filename, \"rb\") as picklefile: \n",
    "        return pickle.load(picklefile)"
   ]
  },
  {
   "cell_type": "code",
   "execution_count": 3,
   "metadata": {
    "collapsed": true
   },
   "outputs": [],
   "source": [
    "def get_imdb_soup(url):\n",
    "    response = requests.get(url)\n",
    "    page = response.text\n",
    "    return BeautifulSoup(page) #for some reason cannot get attributes (ie.title,a,div) from prettify\n",
    "    "
   ]
  },
  {
   "cell_type": "code",
   "execution_count": 4,
   "metadata": {
    "collapsed": true
   },
   "outputs": [],
   "source": [
    "def get_imdb_header(imdb_soup):\n",
    "    imdb_header = imdb_soup.title\n",
    "    return imdb_header"
   ]
  },
  {
   "cell_type": "code",
   "execution_count": 5,
   "metadata": {
    "collapsed": true
   },
   "outputs": [],
   "source": [
    "def get_imdb_title(imdb_header):\n",
    "    header = imdb_header.text\n",
    "    imdb_title = header.split('(')[0]\n",
    "    try:\n",
    "        return imdb_title\n",
    "    except(ValueError,RuntimeError, TypeError, NameError):\n",
    "        return None"
   ]
  },
  {
   "cell_type": "code",
   "execution_count": 6,
   "metadata": {
    "collapsed": true
   },
   "outputs": [],
   "source": [
    "def get_imdb_year(imdb_header):\n",
    "    try:\n",
    "        header = imdb_header.text\n",
    "        imdb_year = header.split('(')[1]\n",
    "        year = re.findall(r'\\d+', imdb_year)\n",
    "        imdb_year = int(year[0])\n",
    "        return imdb_year\n",
    "    except(ValueError, RuntimeError, TypeError, NameError, IndexError):\n",
    "        return None"
   ]
  },
  {
   "cell_type": "code",
   "execution_count": 7,
   "metadata": {
    "collapsed": true
   },
   "outputs": [],
   "source": [
    "def get_imdb_budget(soup):\n",
    "        divs = [x.text for x in soup.find_all('div')]\n",
    "        try:    \n",
    "            for s in divs:\n",
    "                start = 'Budget:'\n",
    "                end = ' '\n",
    "                result = re.findall('%s(.*)%s' % (start, end), s)\n",
    "                for n in result:\n",
    "                    regex = re.compile(r'\\d+(?:,\\d+)*')\n",
    "                    bgt = re.findall(regex,n)\n",
    "                    budget =[x.replace(',','') for x in bgt]\n",
    "                    budint =[int(b) for b in budget]\n",
    "                return budint[0]\n",
    "        except(ValueError, RuntimeError, TypeError, NameError):\n",
    "            return None"
   ]
  },
  {
   "cell_type": "code",
   "execution_count": 8,
   "metadata": {
    "collapsed": true
   },
   "outputs": [],
   "source": [
    "def get_imdb_openingwknd(soup):\n",
    "        divs = [x.text for x in soup.find_all('div')]\n",
    "        for s in divs:\n",
    "            start = 'Opening Weekend:'\n",
    "            end = ' '\n",
    "            result = re.findall('%s(.*)%s' % (start, end), s)\n",
    "            for n in result:\n",
    "                regex = re.compile(r'\\d+(?:,\\d+)*')\n",
    "                opnwknd = re.findall(regex,n)\n",
    "                openwknd =[x.replace(',','') for x in opnwknd]\n",
    "                openingwknd =[int(b) for b in openwknd]\n",
    "        try:\n",
    "            return openingwknd[0]\n",
    "        except(ValueError, RuntimeError, TypeError, NameError):\n",
    "            return None"
   ]
  },
  {
   "cell_type": "code",
   "execution_count": 9,
   "metadata": {
    "collapsed": true
   },
   "outputs": [],
   "source": [
    "def get_imdb_gross(soup):\n",
    "        divs = [x.text for x in soup.find_all('div')]\n",
    "        for s in divs:\n",
    "            start = 'Gross:'\n",
    "            end = ' '\n",
    "            result = re.findall('%s(.*)%s' % (start, end), s)\n",
    "            for n in result:\n",
    "                regex = re.compile(r'\\d+(?:,\\d+)*')\n",
    "                grs = re.findall(regex,n)\n",
    "                grss =[x.replace(',','') for x in grs]\n",
    "                gross =[int(b) for b in grss]\n",
    "        try:\n",
    "            return gross[0]\n",
    "        except(ValueError, RuntimeError, TypeError, NameError):\n",
    "            return None"
   ]
  },
  {
   "cell_type": "code",
   "execution_count": 10,
   "metadata": {
    "collapsed": true
   },
   "outputs": [],
   "source": [
    "def get_imdb_runtime(soup):\n",
    "    try:\n",
    "        mvlen = soup.time\n",
    "        mvtime = mvlen.text\n",
    "        runtime = re.findall(r'\\d+', mvtime)\n",
    "        imdb_runtime = int(runtime[0])\n",
    "        return imdb_runtime\n",
    "    except(ValueError, RuntimeError, TypeError, NameError, AttributeError):\n",
    "        return None"
   ]
  },
  {
   "cell_type": "code",
   "execution_count": 11,
   "metadata": {
    "collapsed": true
   },
   "outputs": [],
   "source": [
    "def get_imdb_releasedate(soup):\n",
    "    try:\n",
    "        imdb_releasedate = soup.find(itemprop = 'datePublished')['content']\n",
    "        #from dateutil.parse import *\n",
    "        return parse(imdb_releasedate)\n",
    "    except(ValueError, RuntimeError, TypeError, NameError, KeyError):\n",
    "        return None"
   ]
  },
  {
   "cell_type": "code",
   "execution_count": 12,
   "metadata": {
    "collapsed": true
   },
   "outputs": [],
   "source": [
    "def get_imdb_metascore(soup):\n",
    "    a = soup.find_all('a')[90].text    \n",
    "    try:\n",
    "        metascore = int(a.split('/')[0])\n",
    "        return metascore\n",
    "    except(RuntimeError, TypeError, NameError,ValueError):\n",
    "        return None"
   ]
  },
  {
   "cell_type": "code",
   "execution_count": null,
   "metadata": {
    "collapsed": true
   },
   "outputs": [],
   "source": []
  },
  {
   "cell_type": "code",
   "execution_count": 13,
   "metadata": {
    "collapsed": true
   },
   "outputs": [],
   "source": [
    "mv_url_list = load_pickle('mv_url_list.pkl') #USE THIS LIST FOR INDIVIDUAL MOVIE LINKS"
   ]
  },
  {
   "cell_type": "code",
   "execution_count": null,
   "metadata": {
    "collapsed": false
   },
   "outputs": [],
   "source": []
  },
  {
   "cell_type": "code",
   "execution_count": null,
   "metadata": {
    "collapsed": true
   },
   "outputs": [],
   "source": []
  },
  {
   "cell_type": "code",
   "execution_count": null,
   "metadata": {
    "collapsed": true
   },
   "outputs": [],
   "source": []
  },
  {
   "cell_type": "code",
   "execution_count": null,
   "metadata": {
    "collapsed": true
   },
   "outputs": [],
   "source": []
  },
  {
   "cell_type": "code",
   "execution_count": null,
   "metadata": {
    "collapsed": true
   },
   "outputs": [],
   "source": []
  },
  {
   "cell_type": "code",
   "execution_count": null,
   "metadata": {
    "collapsed": true
   },
   "outputs": [],
   "source": []
  },
  {
   "cell_type": "code",
   "execution_count": null,
   "metadata": {
    "collapsed": true
   },
   "outputs": [],
   "source": []
  },
  {
   "cell_type": "code",
   "execution_count": null,
   "metadata": {
    "collapsed": true
   },
   "outputs": [],
   "source": []
  },
  {
   "cell_type": "code",
   "execution_count": null,
   "metadata": {
    "collapsed": true
   },
   "outputs": [],
   "source": []
  },
  {
   "cell_type": "code",
   "execution_count": null,
   "metadata": {
    "collapsed": true
   },
   "outputs": [],
   "source": []
  },
  {
   "cell_type": "code",
   "execution_count": null,
   "metadata": {
    "collapsed": true
   },
   "outputs": [],
   "source": []
  },
  {
   "cell_type": "code",
   "execution_count": null,
   "metadata": {
    "collapsed": true
   },
   "outputs": [],
   "source": []
  },
  {
   "cell_type": "code",
   "execution_count": null,
   "metadata": {
    "collapsed": true
   },
   "outputs": [],
   "source": []
  },
  {
   "cell_type": "code",
   "execution_count": null,
   "metadata": {
    "collapsed": true
   },
   "outputs": [],
   "source": []
  },
  {
   "cell_type": "code",
   "execution_count": null,
   "metadata": {
    "collapsed": true
   },
   "outputs": [],
   "source": []
  },
  {
   "cell_type": "code",
   "execution_count": null,
   "metadata": {
    "collapsed": true
   },
   "outputs": [],
   "source": []
  },
  {
   "cell_type": "code",
   "execution_count": null,
   "metadata": {
    "collapsed": true
   },
   "outputs": [],
   "source": []
  },
  {
   "cell_type": "code",
   "execution_count": null,
   "metadata": {
    "collapsed": true
   },
   "outputs": [],
   "source": []
  },
  {
   "cell_type": "code",
   "execution_count": null,
   "metadata": {
    "collapsed": false
   },
   "outputs": [],
   "source": [
    "def get_mv_data(mv_id_list):\n",
    "    mv_data_list = []\n",
    "    count = 0\n",
    "    headlabels = ['Title', 'Year', 'Budget', 'OpeningWkd','Gross','Runtime', 'ReleaseDate','Metascore']\n",
    "    for mv_urlID in mv_id_list: #iterates through movie id urls\n",
    "        mv_soup = get_imdb_soup(mv_urlID)\n",
    "        mv_header = get_imdb_header(mv_soup)\n",
    "        mv_title = get_imdb_title(mv_header)\n",
    "        mv_year = get_imdb_year(mv_header)\n",
    "        mv_budget = get_imdb_budget(mv_soup)\n",
    "        mv_openingwknd = get_imdb_openingwknd(mv_soup)\n",
    "        mv_gross = get_imdb_gross(mv_soup)\n",
    "        mv_runtime = get_imdb_runtime(mv_soup)\n",
    "        mv_releasedate = get_imdb_releasedate(mv_soup)\n",
    "        mv_metascore = get_imdb_metascore(mv_soup)\n",
    "        mv_data_dict = dict(zip(headlabels, [mv_title, mv_year, mv_budget, mv_openingwknd, mv_gross, mv_runtime, mv_releasedate, mv_metascore]))\n",
    "        mv_data_list.append(mv_data_dict)\n",
    "        if count%50 == 0 or count%4192==0:\n",
    "            pickle_it(mv_data_list, 'fixyearfull.pkl')\n",
    "            load_pickle('fixyearfull.pkl')\n",
    "        count+=1\n",
    "    return mv_data_list\n",
    "\n",
    "\n",
    "get_mv_data(mv_url_list)"
   ]
  },
  {
   "cell_type": "code",
   "execution_count": null,
   "metadata": {
    "collapsed": true
   },
   "outputs": [],
   "source": []
  },
  {
   "cell_type": "code",
   "execution_count": null,
   "metadata": {
    "collapsed": true
   },
   "outputs": [],
   "source": []
  },
  {
   "cell_type": "code",
   "execution_count": null,
   "metadata": {
    "collapsed": true
   },
   "outputs": [],
   "source": []
  },
  {
   "cell_type": "code",
   "execution_count": null,
   "metadata": {
    "collapsed": true
   },
   "outputs": [],
   "source": []
  },
  {
   "cell_type": "code",
   "execution_count": null,
   "metadata": {
    "collapsed": true
   },
   "outputs": [],
   "source": []
  },
  {
   "cell_type": "code",
   "execution_count": null,
   "metadata": {
    "collapsed": true
   },
   "outputs": [],
   "source": []
  },
  {
   "cell_type": "code",
   "execution_count": null,
   "metadata": {
    "collapsed": true
   },
   "outputs": [],
   "source": []
  },
  {
   "cell_type": "code",
   "execution_count": null,
   "metadata": {
    "collapsed": true
   },
   "outputs": [],
   "source": []
  }
 ],
 "metadata": {
  "kernelspec": {
   "display_name": "Python 2",
   "language": "python",
   "name": "python2"
  },
  "language_info": {
   "codemirror_mode": {
    "name": "ipython",
    "version": 2
   },
   "file_extension": ".py",
   "mimetype": "text/x-python",
   "name": "python",
   "nbconvert_exporter": "python",
   "pygments_lexer": "ipython2",
   "version": "2.7.10"
  }
 },
 "nbformat": 4,
 "nbformat_minor": 0
}

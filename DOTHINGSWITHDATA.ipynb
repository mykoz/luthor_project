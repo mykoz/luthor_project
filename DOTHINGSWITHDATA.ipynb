{
 "cells": [
  {
   "cell_type": "code",
   "execution_count": 1,
   "metadata": {
    "collapsed": false
   },
   "outputs": [],
   "source": [
    "%matplotlib inline\n",
    "\n",
    "import pandas\n",
    "import pickle\n",
    "import matplotlib.pyplot as plt\n",
    "import numpy as np\n",
    "from patsy import *\n",
    "import sklearn\n",
    "import statsmodels.api as sm\n",
    "import statsmodels.formula.api as smf\n",
    "from sklearn.linear_model import LinearRegression\n",
    "from sklearn.cross_validation import train_test_split\n",
    "import scipy, scipy.stats\n",
    "from math import *\n",
    "import seaborn as sns\n"
   ]
  },
  {
   "cell_type": "code",
   "execution_count": 2,
   "metadata": {
    "collapsed": true
   },
   "outputs": [],
   "source": [
    "# Pickling functions\n",
    "def pickle_it(data, filename):\n",
    "    with open(filename, \"wb\") as picklefile:\n",
    "        pickle.dump(data, picklefile)\n",
    "\n",
    "def load_pickle(filename):\n",
    "    with open(filename, \"rb\") as picklefile: \n",
    "        return pickle.load(picklefile)"
   ]
  },
  {
   "cell_type": "code",
   "execution_count": 3,
   "metadata": {
    "collapsed": false
   },
   "outputs": [
    {
     "data": {
      "text/plain": [
       "4151"
      ]
     },
     "execution_count": 3,
     "metadata": {},
     "output_type": "execute_result"
    }
   ],
   "source": [
    "d = load_pickle('fixyear.pkl')\n",
    "len(d)"
   ]
  },
  {
   "cell_type": "markdown",
   "metadata": {},
   "source": [
    "***Here I begin with 4151 rows of data***"
   ]
  },
  {
   "cell_type": "code",
   "execution_count": 4,
   "metadata": {
    "collapsed": false,
    "scrolled": true
   },
   "outputs": [
    {
     "name": "stdout",
     "output_type": "stream",
     "text": [
      "Budget          767\n",
      "Gross           424\n",
      "Metascore       258\n",
      "OpeningWkd      323\n",
      "ReleaseDate    3189\n",
      "Runtime        2742\n",
      "Title          4151\n",
      "Year           3838\n",
      "dtype: int64\n"
     ]
    }
   ],
   "source": [
    "df = pandas.DataFrame(d)\n",
    "#print df.dtypes\n",
    "print df.count()"
   ]
  },
  {
   "cell_type": "markdown",
   "metadata": {},
   "source": [
    "**.count() shows all the non NaN or NaT values for each column. if I'm to use max features 258 is max possible rows of data**"
   ]
  },
  {
   "cell_type": "code",
   "execution_count": 5,
   "metadata": {
    "collapsed": true
   },
   "outputs": [],
   "source": [
    "logdf = df\n",
    "logdf['Budget'] = logdf['Budget'].apply(lambda x: np.log(x))\n",
    "logdf['Gross'] = logdf['Gross'].apply(lambda x: np.log(x))\n",
    "logdf['OpeningWkd'] = logdf['OpeningWkd'].apply(lambda x: np.log(x))\n"
   ]
  },
  {
   "cell_type": "code",
   "execution_count": 6,
   "metadata": {
    "collapsed": false
   },
   "outputs": [
    {
     "data": {
      "text/html": [
       "<div>\n",
       "<table border=\"1\" class=\"dataframe\">\n",
       "  <thead>\n",
       "    <tr style=\"text-align: right;\">\n",
       "      <th></th>\n",
       "      <th>Budget</th>\n",
       "      <th>Gross</th>\n",
       "      <th>Metascore</th>\n",
       "      <th>OpeningWkd</th>\n",
       "      <th>ReleaseDate</th>\n",
       "      <th>Runtime</th>\n",
       "      <th>Title</th>\n",
       "      <th>Year</th>\n",
       "    </tr>\n",
       "  </thead>\n",
       "  <tbody>\n",
       "    <tr>\n",
       "      <th>0</th>\n",
       "      <td>11.512925</td>\n",
       "      <td>NaN</td>\n",
       "      <td>NaN</td>\n",
       "      <td>NaN</td>\n",
       "      <td>2015-10-30</td>\n",
       "      <td>84</td>\n",
       "      <td>Beautiful Danger 3D Animated Teen Thriller</td>\n",
       "      <td>2015</td>\n",
       "    </tr>\n",
       "    <tr>\n",
       "      <th>1</th>\n",
       "      <td>NaN</td>\n",
       "      <td>NaN</td>\n",
       "      <td>NaN</td>\n",
       "      <td>NaN</td>\n",
       "      <td>NaT</td>\n",
       "      <td>NaN</td>\n",
       "      <td>Network E.L.E. - IMDb</td>\n",
       "      <td>NaN</td>\n",
       "    </tr>\n",
       "    <tr>\n",
       "      <th>2</th>\n",
       "      <td>NaN</td>\n",
       "      <td>NaN</td>\n",
       "      <td>NaN</td>\n",
       "      <td>NaN</td>\n",
       "      <td>2014-10-06</td>\n",
       "      <td>75</td>\n",
       "      <td>Rimolar ve Zimolar: Kasabada Baris</td>\n",
       "      <td>2014</td>\n",
       "    </tr>\n",
       "    <tr>\n",
       "      <th>3</th>\n",
       "      <td>NaN</td>\n",
       "      <td>NaN</td>\n",
       "      <td>NaN</td>\n",
       "      <td>NaN</td>\n",
       "      <td>2009-06-13</td>\n",
       "      <td>72</td>\n",
       "      <td>Miyamoto Musashi: Sôken ni haseru yume</td>\n",
       "      <td>2009</td>\n",
       "    </tr>\n",
       "    <tr>\n",
       "      <th>4</th>\n",
       "      <td>NaN</td>\n",
       "      <td>NaN</td>\n",
       "      <td>NaN</td>\n",
       "      <td>NaN</td>\n",
       "      <td>2007-09-12</td>\n",
       "      <td>NaN</td>\n",
       "      <td>Saint Anthony</td>\n",
       "      <td>2007</td>\n",
       "    </tr>\n",
       "    <tr>\n",
       "      <th>5</th>\n",
       "      <td>NaN</td>\n",
       "      <td>11.643304</td>\n",
       "      <td>NaN</td>\n",
       "      <td>7.077498</td>\n",
       "      <td>2009-06-27</td>\n",
       "      <td>112</td>\n",
       "      <td>Evangerion shin gekijôban: Ha</td>\n",
       "      <td>2009</td>\n",
       "    </tr>\n",
       "    <tr>\n",
       "      <th>6</th>\n",
       "      <td>NaN</td>\n",
       "      <td>11.175605</td>\n",
       "      <td>NaN</td>\n",
       "      <td>NaN</td>\n",
       "      <td>1994-10-07</td>\n",
       "      <td>76</td>\n",
       "      <td>A Troll in Central Park</td>\n",
       "      <td>1994</td>\n",
       "    </tr>\n",
       "    <tr>\n",
       "      <th>7</th>\n",
       "      <td>NaN</td>\n",
       "      <td>17.380769</td>\n",
       "      <td>NaN</td>\n",
       "      <td>NaN</td>\n",
       "      <td>1995-04-07</td>\n",
       "      <td>78</td>\n",
       "      <td>A Goofy Movie</td>\n",
       "      <td>1995</td>\n",
       "    </tr>\n",
       "    <tr>\n",
       "      <th>8</th>\n",
       "      <td>NaN</td>\n",
       "      <td>NaN</td>\n",
       "      <td>NaN</td>\n",
       "      <td>NaN</td>\n",
       "      <td>2005-10-06</td>\n",
       "      <td>NaN</td>\n",
       "      <td>Lado B</td>\n",
       "      <td>1998</td>\n",
       "    </tr>\n",
       "    <tr>\n",
       "      <th>9</th>\n",
       "      <td>NaN</td>\n",
       "      <td>12.847232</td>\n",
       "      <td>NaN</td>\n",
       "      <td>12.326807</td>\n",
       "      <td>2003-10-16</td>\n",
       "      <td>100</td>\n",
       "      <td>Lian zhi feng jing</td>\n",
       "      <td>2003</td>\n",
       "    </tr>\n",
       "    <tr>\n",
       "      <th>10</th>\n",
       "      <td>NaN</td>\n",
       "      <td>NaN</td>\n",
       "      <td>NaN</td>\n",
       "      <td>NaN</td>\n",
       "      <td>2012-06-26</td>\n",
       "      <td>50</td>\n",
       "      <td>The Pied Piper of Hamlin</td>\n",
       "      <td>1992</td>\n",
       "    </tr>\n",
       "    <tr>\n",
       "      <th>11</th>\n",
       "      <td>NaN</td>\n",
       "      <td>NaN</td>\n",
       "      <td>NaN</td>\n",
       "      <td>NaN</td>\n",
       "      <td>2017-07-06</td>\n",
       "      <td>86</td>\n",
       "      <td>Dangerman</td>\n",
       "      <td>2017</td>\n",
       "    </tr>\n",
       "    <tr>\n",
       "      <th>12</th>\n",
       "      <td>16.118096</td>\n",
       "      <td>NaN</td>\n",
       "      <td>NaN</td>\n",
       "      <td>NaN</td>\n",
       "      <td>2012-12-19</td>\n",
       "      <td>95</td>\n",
       "      <td>Der Mondmann</td>\n",
       "      <td>2012</td>\n",
       "    </tr>\n",
       "    <tr>\n",
       "      <th>13</th>\n",
       "      <td>NaN</td>\n",
       "      <td>NaN</td>\n",
       "      <td>72</td>\n",
       "      <td>NaN</td>\n",
       "      <td>2012-07-21</td>\n",
       "      <td>117</td>\n",
       "      <td>Ookami kodomo no Ame to Yuki</td>\n",
       "      <td>2012</td>\n",
       "    </tr>\n",
       "    <tr>\n",
       "      <th>14</th>\n",
       "      <td>NaN</td>\n",
       "      <td>NaN</td>\n",
       "      <td>NaN</td>\n",
       "      <td>NaN</td>\n",
       "      <td>1994-10-06</td>\n",
       "      <td>83</td>\n",
       "      <td>Harold and the Ghosts</td>\n",
       "      <td>1994</td>\n",
       "    </tr>\n",
       "    <tr>\n",
       "      <th>15</th>\n",
       "      <td>NaN</td>\n",
       "      <td>NaN</td>\n",
       "      <td>NaN</td>\n",
       "      <td>NaN</td>\n",
       "      <td>1981-03-14</td>\n",
       "      <td>NaN</td>\n",
       "      <td>Doraemon: Nobita no Uchû kaitakushi</td>\n",
       "      <td>1981</td>\n",
       "    </tr>\n",
       "    <tr>\n",
       "      <th>16</th>\n",
       "      <td>NaN</td>\n",
       "      <td>NaN</td>\n",
       "      <td>NaN</td>\n",
       "      <td>NaN</td>\n",
       "      <td>1972-05-19</td>\n",
       "      <td>81</td>\n",
       "      <td>Snoopy Come Home</td>\n",
       "      <td>1972</td>\n",
       "    </tr>\n",
       "    <tr>\n",
       "      <th>17</th>\n",
       "      <td>NaN</td>\n",
       "      <td>NaN</td>\n",
       "      <td>NaN</td>\n",
       "      <td>NaN</td>\n",
       "      <td>NaT</td>\n",
       "      <td>NaN</td>\n",
       "      <td>Clifford the Big Red Dog</td>\n",
       "      <td>2016</td>\n",
       "    </tr>\n",
       "    <tr>\n",
       "      <th>18</th>\n",
       "      <td>NaN</td>\n",
       "      <td>NaN</td>\n",
       "      <td>NaN</td>\n",
       "      <td>NaN</td>\n",
       "      <td>2005-04-09</td>\n",
       "      <td>108</td>\n",
       "      <td>Meitantei Conan: Suiheisenjyou no sutorateeji</td>\n",
       "      <td>2005</td>\n",
       "    </tr>\n",
       "    <tr>\n",
       "      <th>19</th>\n",
       "      <td>NaN</td>\n",
       "      <td>NaN</td>\n",
       "      <td>NaN</td>\n",
       "      <td>NaN</td>\n",
       "      <td>2016-10-06</td>\n",
       "      <td>90</td>\n",
       "      <td>Baba Yaga</td>\n",
       "      <td>2016</td>\n",
       "    </tr>\n",
       "    <tr>\n",
       "      <th>20</th>\n",
       "      <td>NaN</td>\n",
       "      <td>NaN</td>\n",
       "      <td>NaN</td>\n",
       "      <td>NaN</td>\n",
       "      <td>NaT</td>\n",
       "      <td>NaN</td>\n",
       "      <td>Talking Tom - IMDb</td>\n",
       "      <td>NaN</td>\n",
       "    </tr>\n",
       "    <tr>\n",
       "      <th>21</th>\n",
       "      <td>NaN</td>\n",
       "      <td>NaN</td>\n",
       "      <td>NaN</td>\n",
       "      <td>NaN</td>\n",
       "      <td>2012-06-18</td>\n",
       "      <td>50</td>\n",
       "      <td>The Emperor's New Clothes</td>\n",
       "      <td>1991</td>\n",
       "    </tr>\n",
       "    <tr>\n",
       "      <th>22</th>\n",
       "      <td>NaN</td>\n",
       "      <td>NaN</td>\n",
       "      <td>NaN</td>\n",
       "      <td>NaN</td>\n",
       "      <td>2003-03-08</td>\n",
       "      <td>90</td>\n",
       "      <td>Doraemon: Nobita to fushigi kazetsukai</td>\n",
       "      <td>2003</td>\n",
       "    </tr>\n",
       "    <tr>\n",
       "      <th>23</th>\n",
       "      <td>NaN</td>\n",
       "      <td>NaN</td>\n",
       "      <td>NaN</td>\n",
       "      <td>NaN</td>\n",
       "      <td>1945-02-04</td>\n",
       "      <td>71</td>\n",
       "      <td>The Three Caballeros</td>\n",
       "      <td>1944</td>\n",
       "    </tr>\n",
       "    <tr>\n",
       "      <th>24</th>\n",
       "      <td>10.819778</td>\n",
       "      <td>NaN</td>\n",
       "      <td>NaN</td>\n",
       "      <td>NaN</td>\n",
       "      <td>NaT</td>\n",
       "      <td>NaN</td>\n",
       "      <td>Waiting for the Sun - IMDb</td>\n",
       "      <td>NaN</td>\n",
       "    </tr>\n",
       "    <tr>\n",
       "      <th>25</th>\n",
       "      <td>NaN</td>\n",
       "      <td>NaN</td>\n",
       "      <td>NaN</td>\n",
       "      <td>NaN</td>\n",
       "      <td>2001-12-06</td>\n",
       "      <td>100</td>\n",
       "      <td>Garaga</td>\n",
       "      <td>1989</td>\n",
       "    </tr>\n",
       "    <tr>\n",
       "      <th>26</th>\n",
       "      <td>NaN</td>\n",
       "      <td>NaN</td>\n",
       "      <td>NaN</td>\n",
       "      <td>NaN</td>\n",
       "      <td>NaT</td>\n",
       "      <td>NaN</td>\n",
       "      <td>Lucha contra el carro de combate</td>\n",
       "      <td>1949</td>\n",
       "    </tr>\n",
       "    <tr>\n",
       "      <th>27</th>\n",
       "      <td>15.607270</td>\n",
       "      <td>17.759032</td>\n",
       "      <td>NaN</td>\n",
       "      <td>NaN</td>\n",
       "      <td>1959-02-06</td>\n",
       "      <td>75</td>\n",
       "      <td>Sleeping Beauty</td>\n",
       "      <td>1959</td>\n",
       "    </tr>\n",
       "    <tr>\n",
       "      <th>28</th>\n",
       "      <td>NaN</td>\n",
       "      <td>NaN</td>\n",
       "      <td>NaN</td>\n",
       "      <td>NaN</td>\n",
       "      <td>2004-07-10</td>\n",
       "      <td>70</td>\n",
       "      <td>Mécanix</td>\n",
       "      <td>2003</td>\n",
       "    </tr>\n",
       "    <tr>\n",
       "      <th>29</th>\n",
       "      <td>NaN</td>\n",
       "      <td>NaN</td>\n",
       "      <td>NaN</td>\n",
       "      <td>NaN</td>\n",
       "      <td>2005-04-16</td>\n",
       "      <td>70</td>\n",
       "      <td>Eiga Futari wa Purikyua Max Heart</td>\n",
       "      <td>2005</td>\n",
       "    </tr>\n",
       "    <tr>\n",
       "      <th>...</th>\n",
       "      <td>...</td>\n",
       "      <td>...</td>\n",
       "      <td>...</td>\n",
       "      <td>...</td>\n",
       "      <td>...</td>\n",
       "      <td>...</td>\n",
       "      <td>...</td>\n",
       "      <td>...</td>\n",
       "    </tr>\n",
       "    <tr>\n",
       "      <th>4121</th>\n",
       "      <td>NaN</td>\n",
       "      <td>NaN</td>\n",
       "      <td>NaN</td>\n",
       "      <td>NaN</td>\n",
       "      <td>NaT</td>\n",
       "      <td>NaN</td>\n",
       "      <td>Ryann Watters and the King's Sword - IMDb</td>\n",
       "      <td>NaN</td>\n",
       "    </tr>\n",
       "    <tr>\n",
       "      <th>4122</th>\n",
       "      <td>NaN</td>\n",
       "      <td>NaN</td>\n",
       "      <td>NaN</td>\n",
       "      <td>NaN</td>\n",
       "      <td>NaT</td>\n",
       "      <td>NaN</td>\n",
       "      <td>Introworld - IMDb</td>\n",
       "      <td>NaN</td>\n",
       "    </tr>\n",
       "    <tr>\n",
       "      <th>4123</th>\n",
       "      <td>NaN</td>\n",
       "      <td>NaN</td>\n",
       "      <td>NaN</td>\n",
       "      <td>NaN</td>\n",
       "      <td>1981-07-18</td>\n",
       "      <td>110</td>\n",
       "      <td>Ashita no Jô 2</td>\n",
       "      <td>1981</td>\n",
       "    </tr>\n",
       "    <tr>\n",
       "      <th>4124</th>\n",
       "      <td>NaN</td>\n",
       "      <td>NaN</td>\n",
       "      <td>NaN</td>\n",
       "      <td>NaN</td>\n",
       "      <td>1993-10-06</td>\n",
       "      <td>56</td>\n",
       "      <td>Zhizn i priklyucheniya chetyrekh druzei 5. Kot...</td>\n",
       "      <td>1993</td>\n",
       "    </tr>\n",
       "    <tr>\n",
       "      <th>4125</th>\n",
       "      <td>NaN</td>\n",
       "      <td>NaN</td>\n",
       "      <td>NaN</td>\n",
       "      <td>NaN</td>\n",
       "      <td>2010-10-15</td>\n",
       "      <td>NaN</td>\n",
       "      <td>Ramayana: The Epic</td>\n",
       "      <td>2010</td>\n",
       "    </tr>\n",
       "    <tr>\n",
       "      <th>4126</th>\n",
       "      <td>NaN</td>\n",
       "      <td>NaN</td>\n",
       "      <td>NaN</td>\n",
       "      <td>NaN</td>\n",
       "      <td>1925-10-07</td>\n",
       "      <td>NaN</td>\n",
       "      <td>Silent Sheldon</td>\n",
       "      <td>1925</td>\n",
       "    </tr>\n",
       "    <tr>\n",
       "      <th>4127</th>\n",
       "      <td>NaN</td>\n",
       "      <td>NaN</td>\n",
       "      <td>NaN</td>\n",
       "      <td>NaN</td>\n",
       "      <td>2005-10-06</td>\n",
       "      <td>NaN</td>\n",
       "      <td>Walt Disney's Fables</td>\n",
       "      <td>2005</td>\n",
       "    </tr>\n",
       "    <tr>\n",
       "      <th>4128</th>\n",
       "      <td>NaN</td>\n",
       "      <td>16.922890</td>\n",
       "      <td>NaN</td>\n",
       "      <td>NaN</td>\n",
       "      <td>1999-07-09</td>\n",
       "      <td>80</td>\n",
       "      <td>Goomer</td>\n",
       "      <td>1999</td>\n",
       "    </tr>\n",
       "    <tr>\n",
       "      <th>4129</th>\n",
       "      <td>NaN</td>\n",
       "      <td>NaN</td>\n",
       "      <td>NaN</td>\n",
       "      <td>NaN</td>\n",
       "      <td>2014-11-22</td>\n",
       "      <td>119</td>\n",
       "      <td>Attack on Titan Crimson Bow and Arrow</td>\n",
       "      <td>2014</td>\n",
       "    </tr>\n",
       "    <tr>\n",
       "      <th>4130</th>\n",
       "      <td>NaN</td>\n",
       "      <td>NaN</td>\n",
       "      <td>NaN</td>\n",
       "      <td>NaN</td>\n",
       "      <td>2015-12-23</td>\n",
       "      <td>NaN</td>\n",
       "      <td>Robinson</td>\n",
       "      <td>2015</td>\n",
       "    </tr>\n",
       "    <tr>\n",
       "      <th>4131</th>\n",
       "      <td>NaN</td>\n",
       "      <td>NaN</td>\n",
       "      <td>NaN</td>\n",
       "      <td>NaN</td>\n",
       "      <td>1999-10-06</td>\n",
       "      <td>NaN</td>\n",
       "      <td>Vampires, Pirates and Aliens</td>\n",
       "      <td>1999</td>\n",
       "    </tr>\n",
       "    <tr>\n",
       "      <th>4132</th>\n",
       "      <td>NaN</td>\n",
       "      <td>NaN</td>\n",
       "      <td>NaN</td>\n",
       "      <td>NaN</td>\n",
       "      <td>1994-10-06</td>\n",
       "      <td>60</td>\n",
       "      <td>Zhizn i priklyucheniya chetyrekh druzei 3. Igr...</td>\n",
       "      <td>1994</td>\n",
       "    </tr>\n",
       "    <tr>\n",
       "      <th>4133</th>\n",
       "      <td>17.453097</td>\n",
       "      <td>16.928648</td>\n",
       "      <td>NaN</td>\n",
       "      <td>11.815826</td>\n",
       "      <td>1996-04-12</td>\n",
       "      <td>79</td>\n",
       "      <td>James and the Giant Peach</td>\n",
       "      <td>1996</td>\n",
       "    </tr>\n",
       "    <tr>\n",
       "      <th>4134</th>\n",
       "      <td>NaN</td>\n",
       "      <td>NaN</td>\n",
       "      <td>NaN</td>\n",
       "      <td>NaN</td>\n",
       "      <td>NaT</td>\n",
       "      <td>NaN</td>\n",
       "      <td>What Was That!</td>\n",
       "      <td>1985</td>\n",
       "    </tr>\n",
       "    <tr>\n",
       "      <th>4135</th>\n",
       "      <td>NaN</td>\n",
       "      <td>NaN</td>\n",
       "      <td>NaN</td>\n",
       "      <td>NaN</td>\n",
       "      <td>1975-09-04</td>\n",
       "      <td>85</td>\n",
       "      <td>Shame of the Jungle</td>\n",
       "      <td>1975</td>\n",
       "    </tr>\n",
       "    <tr>\n",
       "      <th>4136</th>\n",
       "      <td>NaN</td>\n",
       "      <td>8.864323</td>\n",
       "      <td>NaN</td>\n",
       "      <td>8.617400</td>\n",
       "      <td>2012-05-25</td>\n",
       "      <td>96</td>\n",
       "      <td>Arjun: The Warrior Prince</td>\n",
       "      <td>2012</td>\n",
       "    </tr>\n",
       "    <tr>\n",
       "      <th>4137</th>\n",
       "      <td>NaN</td>\n",
       "      <td>NaN</td>\n",
       "      <td>NaN</td>\n",
       "      <td>NaN</td>\n",
       "      <td>2010-03-02</td>\n",
       "      <td>102</td>\n",
       "      <td>The Oscar Nominated Short Films 2010: Animation</td>\n",
       "      <td>2010</td>\n",
       "    </tr>\n",
       "    <tr>\n",
       "      <th>4138</th>\n",
       "      <td>NaN</td>\n",
       "      <td>NaN</td>\n",
       "      <td>NaN</td>\n",
       "      <td>NaN</td>\n",
       "      <td>2005-03-22</td>\n",
       "      <td>NaN</td>\n",
       "      <td>The Star of Bethlehem</td>\n",
       "      <td>1921</td>\n",
       "    </tr>\n",
       "    <tr>\n",
       "      <th>4139</th>\n",
       "      <td>NaN</td>\n",
       "      <td>NaN</td>\n",
       "      <td>NaN</td>\n",
       "      <td>NaN</td>\n",
       "      <td>NaT</td>\n",
       "      <td>NaN</td>\n",
       "      <td>WimbleToad - IMDb</td>\n",
       "      <td>NaN</td>\n",
       "    </tr>\n",
       "    <tr>\n",
       "      <th>4140</th>\n",
       "      <td>NaN</td>\n",
       "      <td>NaN</td>\n",
       "      <td>NaN</td>\n",
       "      <td>NaN</td>\n",
       "      <td>NaT</td>\n",
       "      <td>NaN</td>\n",
       "      <td>Smokey: The Cat-Astrophe</td>\n",
       "      <td>2015</td>\n",
       "    </tr>\n",
       "    <tr>\n",
       "      <th>4141</th>\n",
       "      <td>NaN</td>\n",
       "      <td>NaN</td>\n",
       "      <td>NaN</td>\n",
       "      <td>NaN</td>\n",
       "      <td>NaT</td>\n",
       "      <td>NaN</td>\n",
       "      <td>The Minotaur's Lament - IMDb</td>\n",
       "      <td>NaN</td>\n",
       "    </tr>\n",
       "    <tr>\n",
       "      <th>4142</th>\n",
       "      <td>NaN</td>\n",
       "      <td>NaN</td>\n",
       "      <td>NaN</td>\n",
       "      <td>NaN</td>\n",
       "      <td>2013-05-31</td>\n",
       "      <td>46</td>\n",
       "      <td>Koto no ha no niwa</td>\n",
       "      <td>2013</td>\n",
       "    </tr>\n",
       "    <tr>\n",
       "      <th>4143</th>\n",
       "      <td>NaN</td>\n",
       "      <td>NaN</td>\n",
       "      <td>NaN</td>\n",
       "      <td>NaN</td>\n",
       "      <td>NaT</td>\n",
       "      <td>NaN</td>\n",
       "      <td>In the Void</td>\n",
       "      <td>1968</td>\n",
       "    </tr>\n",
       "    <tr>\n",
       "      <th>4144</th>\n",
       "      <td>NaN</td>\n",
       "      <td>NaN</td>\n",
       "      <td>NaN</td>\n",
       "      <td>NaN</td>\n",
       "      <td>2005-08-12</td>\n",
       "      <td>90</td>\n",
       "      <td>Le roman de Renart</td>\n",
       "      <td>2005</td>\n",
       "    </tr>\n",
       "    <tr>\n",
       "      <th>4145</th>\n",
       "      <td>NaN</td>\n",
       "      <td>NaN</td>\n",
       "      <td>NaN</td>\n",
       "      <td>NaN</td>\n",
       "      <td>1997-01-24</td>\n",
       "      <td>73</td>\n",
       "      <td>Jakten på himlens nyckel</td>\n",
       "      <td>1997</td>\n",
       "    </tr>\n",
       "    <tr>\n",
       "      <th>4146</th>\n",
       "      <td>NaN</td>\n",
       "      <td>NaN</td>\n",
       "      <td>NaN</td>\n",
       "      <td>NaN</td>\n",
       "      <td>2000-10-06</td>\n",
       "      <td>50</td>\n",
       "      <td>Easter in Bunnyland</td>\n",
       "      <td>2000</td>\n",
       "    </tr>\n",
       "    <tr>\n",
       "      <th>4147</th>\n",
       "      <td>NaN</td>\n",
       "      <td>NaN</td>\n",
       "      <td>NaN</td>\n",
       "      <td>NaN</td>\n",
       "      <td>2012-01-26</td>\n",
       "      <td>82</td>\n",
       "      <td>The Illusionauts</td>\n",
       "      <td>2012</td>\n",
       "    </tr>\n",
       "    <tr>\n",
       "      <th>4148</th>\n",
       "      <td>NaN</td>\n",
       "      <td>NaN</td>\n",
       "      <td>NaN</td>\n",
       "      <td>NaN</td>\n",
       "      <td>2005-08-05</td>\n",
       "      <td>NaN</td>\n",
       "      <td>Digimon: Revenge of Diaboromon</td>\n",
       "      <td>2001</td>\n",
       "    </tr>\n",
       "    <tr>\n",
       "      <th>4149</th>\n",
       "      <td>NaN</td>\n",
       "      <td>NaN</td>\n",
       "      <td>NaN</td>\n",
       "      <td>NaN</td>\n",
       "      <td>NaT</td>\n",
       "      <td>NaN</td>\n",
       "      <td>Usagi Yojimbo</td>\n",
       "      <td>2016</td>\n",
       "    </tr>\n",
       "    <tr>\n",
       "      <th>4150</th>\n",
       "      <td>17.599700</td>\n",
       "      <td>16.860033</td>\n",
       "      <td>NaN</td>\n",
       "      <td>NaN</td>\n",
       "      <td>1985-07-24</td>\n",
       "      <td>80</td>\n",
       "      <td>The Black Cauldron</td>\n",
       "      <td>1985</td>\n",
       "    </tr>\n",
       "  </tbody>\n",
       "</table>\n",
       "<p>4151 rows × 8 columns</p>\n",
       "</div>"
      ],
      "text/plain": [
       "         Budget      Gross  Metascore  OpeningWkd ReleaseDate  Runtime  \\\n",
       "0     11.512925        NaN        NaN         NaN  2015-10-30       84   \n",
       "1           NaN        NaN        NaN         NaN         NaT      NaN   \n",
       "2           NaN        NaN        NaN         NaN  2014-10-06       75   \n",
       "3           NaN        NaN        NaN         NaN  2009-06-13       72   \n",
       "4           NaN        NaN        NaN         NaN  2007-09-12      NaN   \n",
       "5           NaN  11.643304        NaN    7.077498  2009-06-27      112   \n",
       "6           NaN  11.175605        NaN         NaN  1994-10-07       76   \n",
       "7           NaN  17.380769        NaN         NaN  1995-04-07       78   \n",
       "8           NaN        NaN        NaN         NaN  2005-10-06      NaN   \n",
       "9           NaN  12.847232        NaN   12.326807  2003-10-16      100   \n",
       "10          NaN        NaN        NaN         NaN  2012-06-26       50   \n",
       "11          NaN        NaN        NaN         NaN  2017-07-06       86   \n",
       "12    16.118096        NaN        NaN         NaN  2012-12-19       95   \n",
       "13          NaN        NaN         72         NaN  2012-07-21      117   \n",
       "14          NaN        NaN        NaN         NaN  1994-10-06       83   \n",
       "15          NaN        NaN        NaN         NaN  1981-03-14      NaN   \n",
       "16          NaN        NaN        NaN         NaN  1972-05-19       81   \n",
       "17          NaN        NaN        NaN         NaN         NaT      NaN   \n",
       "18          NaN        NaN        NaN         NaN  2005-04-09      108   \n",
       "19          NaN        NaN        NaN         NaN  2016-10-06       90   \n",
       "20          NaN        NaN        NaN         NaN         NaT      NaN   \n",
       "21          NaN        NaN        NaN         NaN  2012-06-18       50   \n",
       "22          NaN        NaN        NaN         NaN  2003-03-08       90   \n",
       "23          NaN        NaN        NaN         NaN  1945-02-04       71   \n",
       "24    10.819778        NaN        NaN         NaN         NaT      NaN   \n",
       "25          NaN        NaN        NaN         NaN  2001-12-06      100   \n",
       "26          NaN        NaN        NaN         NaN         NaT      NaN   \n",
       "27    15.607270  17.759032        NaN         NaN  1959-02-06       75   \n",
       "28          NaN        NaN        NaN         NaN  2004-07-10       70   \n",
       "29          NaN        NaN        NaN         NaN  2005-04-16       70   \n",
       "...         ...        ...        ...         ...         ...      ...   \n",
       "4121        NaN        NaN        NaN         NaN         NaT      NaN   \n",
       "4122        NaN        NaN        NaN         NaN         NaT      NaN   \n",
       "4123        NaN        NaN        NaN         NaN  1981-07-18      110   \n",
       "4124        NaN        NaN        NaN         NaN  1993-10-06       56   \n",
       "4125        NaN        NaN        NaN         NaN  2010-10-15      NaN   \n",
       "4126        NaN        NaN        NaN         NaN  1925-10-07      NaN   \n",
       "4127        NaN        NaN        NaN         NaN  2005-10-06      NaN   \n",
       "4128        NaN  16.922890        NaN         NaN  1999-07-09       80   \n",
       "4129        NaN        NaN        NaN         NaN  2014-11-22      119   \n",
       "4130        NaN        NaN        NaN         NaN  2015-12-23      NaN   \n",
       "4131        NaN        NaN        NaN         NaN  1999-10-06      NaN   \n",
       "4132        NaN        NaN        NaN         NaN  1994-10-06       60   \n",
       "4133  17.453097  16.928648        NaN   11.815826  1996-04-12       79   \n",
       "4134        NaN        NaN        NaN         NaN         NaT      NaN   \n",
       "4135        NaN        NaN        NaN         NaN  1975-09-04       85   \n",
       "4136        NaN   8.864323        NaN    8.617400  2012-05-25       96   \n",
       "4137        NaN        NaN        NaN         NaN  2010-03-02      102   \n",
       "4138        NaN        NaN        NaN         NaN  2005-03-22      NaN   \n",
       "4139        NaN        NaN        NaN         NaN         NaT      NaN   \n",
       "4140        NaN        NaN        NaN         NaN         NaT      NaN   \n",
       "4141        NaN        NaN        NaN         NaN         NaT      NaN   \n",
       "4142        NaN        NaN        NaN         NaN  2013-05-31       46   \n",
       "4143        NaN        NaN        NaN         NaN         NaT      NaN   \n",
       "4144        NaN        NaN        NaN         NaN  2005-08-12       90   \n",
       "4145        NaN        NaN        NaN         NaN  1997-01-24       73   \n",
       "4146        NaN        NaN        NaN         NaN  2000-10-06       50   \n",
       "4147        NaN        NaN        NaN         NaN  2012-01-26       82   \n",
       "4148        NaN        NaN        NaN         NaN  2005-08-05      NaN   \n",
       "4149        NaN        NaN        NaN         NaN         NaT      NaN   \n",
       "4150  17.599700  16.860033        NaN         NaN  1985-07-24       80   \n",
       "\n",
       "                                                  Title  Year  \n",
       "0           Beautiful Danger 3D Animated Teen Thriller   2015  \n",
       "1                                 Network E.L.E. - IMDb   NaN  \n",
       "2                   Rimolar ve Zimolar: Kasabada Baris   2014  \n",
       "3               Miyamoto Musashi: Sôken ni haseru yume   2009  \n",
       "4                                        Saint Anthony   2007  \n",
       "5                        Evangerion shin gekijôban: Ha   2009  \n",
       "6                              A Troll in Central Park   1994  \n",
       "7                                        A Goofy Movie   1995  \n",
       "8                                               Lado B   1998  \n",
       "9                                   Lian zhi feng jing   2003  \n",
       "10                            The Pied Piper of Hamlin   1992  \n",
       "11                                           Dangerman   2017  \n",
       "12                                        Der Mondmann   2012  \n",
       "13                        Ookami kodomo no Ame to Yuki   2012  \n",
       "14                               Harold and the Ghosts   1994  \n",
       "15                 Doraemon: Nobita no Uchû kaitakushi   1981  \n",
       "16                                    Snoopy Come Home   1972  \n",
       "17                            Clifford the Big Red Dog   2016  \n",
       "18       Meitantei Conan: Suiheisenjyou no sutorateeji   2005  \n",
       "19                                           Baba Yaga   2016  \n",
       "20                                   Talking Tom - IMDb   NaN  \n",
       "21                           The Emperor's New Clothes   1991  \n",
       "22              Doraemon: Nobita to fushigi kazetsukai   2003  \n",
       "23                                The Three Caballeros   1944  \n",
       "24                           Waiting for the Sun - IMDb   NaN  \n",
       "25                                              Garaga   1989  \n",
       "26                    Lucha contra el carro de combate   1949  \n",
       "27                                     Sleeping Beauty   1959  \n",
       "28                                             Mécanix   2003  \n",
       "29                   Eiga Futari wa Purikyua Max Heart   2005  \n",
       "...                                                 ...   ...  \n",
       "4121          Ryann Watters and the King's Sword - IMDb   NaN  \n",
       "4122                                  Introworld - IMDb   NaN  \n",
       "4123                                    Ashita no Jô 2   1981  \n",
       "4124  Zhizn i priklyucheniya chetyrekh druzei 5. Kot...  1993  \n",
       "4125                                Ramayana: The Epic   2010  \n",
       "4126                                    Silent Sheldon   1925  \n",
       "4127                              Walt Disney's Fables   2005  \n",
       "4128                                            Goomer   1999  \n",
       "4129             Attack on Titan Crimson Bow and Arrow   2014  \n",
       "4130                                          Robinson   2015  \n",
       "4131                      Vampires, Pirates and Aliens   1999  \n",
       "4132  Zhizn i priklyucheniya chetyrekh druzei 3. Igr...  1994  \n",
       "4133                         James and the Giant Peach   1996  \n",
       "4134                                    What Was That!   1985  \n",
       "4135                               Shame of the Jungle   1975  \n",
       "4136                         Arjun: The Warrior Prince   2012  \n",
       "4137   The Oscar Nominated Short Films 2010: Animation   2010  \n",
       "4138                             The Star of Bethlehem   1921  \n",
       "4139                                  WimbleToad - IMDb   NaN  \n",
       "4140                          Smokey: The Cat-Astrophe   2015  \n",
       "4141                       The Minotaur's Lament - IMDb   NaN  \n",
       "4142                                Koto no ha no niwa   2013  \n",
       "4143                                       In the Void   1968  \n",
       "4144                                Le roman de Renart   2005  \n",
       "4145                          Jakten på himlens nyckel   1997  \n",
       "4146                               Easter in Bunnyland   2000  \n",
       "4147                                  The Illusionauts   2012  \n",
       "4148                    Digimon: Revenge of Diaboromon   2001  \n",
       "4149                                     Usagi Yojimbo   2016  \n",
       "4150                                The Black Cauldron   1985  \n",
       "\n",
       "[4151 rows x 8 columns]"
      ]
     },
     "execution_count": 6,
     "metadata": {},
     "output_type": "execute_result"
    }
   ],
   "source": [
    "logdf"
   ]
  },
  {
   "cell_type": "code",
   "execution_count": null,
   "metadata": {
    "collapsed": false
   },
   "outputs": [],
   "source": [
    "pandas.tools.plotting.scatter_matrix(logdf[['Budget','Gross', 'Metascore', 'OpeningWkd', 'ReleaseDate', 'Runtime', 'Year']] , alpha=0.2, figsize=(15, 15), diagonal='hist')\n"
   ]
  },
  {
   "cell_type": "code",
   "execution_count": null,
   "metadata": {
    "collapsed": false
   },
   "outputs": [],
   "source": [
    "plt.show()"
   ]
  },
  {
   "cell_type": "code",
   "execution_count": 5,
   "metadata": {
    "collapsed": false
   },
   "outputs": [],
   "source": [
    "#import statsmodels.formula.api as smf\n",
    "\n",
    "def forward_selected(data, response):\n",
    "    \"\"\"Linear model designed by forward selection.\n",
    "\n",
    "    Parameters:\n",
    "    -----------\n",
    "    data : pandas DataFrame with all possible predictors and response\n",
    "\n",
    "    response: string, name of response column in data\n",
    "\n",
    "    Returns:\n",
    "    --------\n",
    "    model: an \"optimal\" fitted statsmodels linear model\n",
    "           with an intercept\n",
    "           selected by forward selection\n",
    "           evaluated by adjusted R-squared\n",
    "    \"\"\"\n",
    "    remaining = set(data.columns)\n",
    "    remaining.remove(response)\n",
    "    selected = []\n",
    "    current_score, best_new_score = 0.0, 0.0\n",
    "    while remaining and current_score == best_new_score:\n",
    "        scores_with_candidates = []\n",
    "        for candidate in remaining:\n",
    "            formula = \"{} ~ {} + 1\".format(response,\n",
    "                                           ' + '.join(selected + [candidate]))\n",
    "            print formula\n",
    "            score = smf.ols(formula, data).fit().rsquared_adj \n",
    "            print score\n",
    "            print\n",
    "            scores_with_candidates.append((score, candidate))\n",
    "        scores_with_candidates.sort()\n",
    "        best_new_score, best_candidate = scores_with_candidates.pop()\n",
    "        if current_score < best_new_score:\n",
    "            remaining.remove(best_candidate)\n",
    "            selected.append(best_candidate)\n",
    "            current_score = best_new_score\n",
    "    formula = \"{} ~ {} + 1\".format(response,\n",
    "                                   ' + '.join(selected))\n",
    "    model = smf.ols(formula, data).fit()\n",
    "    return model\n"
   ]
  },
  {
   "cell_type": "code",
   "execution_count": null,
   "metadata": {
    "collapsed": false,
    "scrolled": true
   },
   "outputs": [],
   "source": [
    "model = forward_selected(logdf,'Gross')"
   ]
  },
  {
   "cell_type": "code",
   "execution_count": null,
   "metadata": {
    "collapsed": false
   },
   "outputs": [],
   "source": [
    "print model.model.formula\n",
    "print model.rsquared_adj\n",
    "model.summary()"
   ]
  },
  {
   "cell_type": "code",
   "execution_count": 6,
   "metadata": {
    "collapsed": false
   },
   "outputs": [],
   "source": [
    "cleandf = df[df['Year'] <= 2015].dropna()\n"
   ]
  },
  {
   "cell_type": "code",
   "execution_count": 7,
   "metadata": {
    "collapsed": true
   },
   "outputs": [],
   "source": [
    "logcleandf = cleandf\n",
    "logcleandf['Budget'] = logcleandf['Budget'].apply(lambda x: np.log(x))\n",
    "logcleandf['Gross'] = logcleandf['Gross'].apply(lambda x: np.log(x))\n",
    "logcleandf['OpeningWkd'] = logcleandf['OpeningWkd'].apply(lambda x: np.log(x))"
   ]
  },
  {
   "cell_type": "code",
   "execution_count": null,
   "metadata": {
    "collapsed": false
   },
   "outputs": [],
   "source": [
    "logcleandf"
   ]
  },
  {
   "cell_type": "code",
   "execution_count": null,
   "metadata": {
    "collapsed": true
   },
   "outputs": [],
   "source": [
    "pandas.tools.plotting.scatter_matrix(cleandf , alpha=0.2, figsize=(15, 15), grid=True, diagonal='hist')\n",
    "plt.savefig(r\"clean_scattermatrix.png\")"
   ]
  },
  {
   "cell_type": "code",
   "execution_count": null,
   "metadata": {
    "collapsed": false
   },
   "outputs": [],
   "source": [
    "pandas.tools.plotting.scatter_matrix(logcleandf , alpha=0.2, figsize=(15, 15),  grid=True, diagonal='hist')\n",
    "plt.savefig(r\"logclean_scattermatrix.png\")\n"
   ]
  },
  {
   "cell_type": "code",
   "execution_count": null,
   "metadata": {
    "collapsed": false
   },
   "outputs": [],
   "source": [
    "axes = pandas.tools.plotting.scatter_matrix(df, alpha=0.2)\n",
    "plt.tight_layout()\n",
    "plt.show()"
   ]
  },
  {
   "cell_type": "code",
   "execution_count": null,
   "metadata": {
    "collapsed": false
   },
   "outputs": [],
   "source": []
  },
  {
   "cell_type": "code",
   "execution_count": null,
   "metadata": {
    "collapsed": false
   },
   "outputs": [],
   "source": []
  },
  {
   "cell_type": "code",
   "execution_count": 8,
   "metadata": {
    "collapsed": false
   },
   "outputs": [
    {
     "name": "stdout",
     "output_type": "stream",
     "text": [
      "Gross ~ OpeningWkd + 1\n",
      "0.406215698011\n",
      "\n",
      "Gross ~ Title + 1\n",
      "nan\n",
      "\n",
      "Gross ~ Budget + 1\n",
      "0.108143123598\n",
      "\n",
      "Gross ~ Metascore + 1\n",
      "-0.00547814159567\n",
      "\n",
      "Gross ~ ReleaseDate + 1\n",
      "0.811568521826\n",
      "\n",
      "Gross ~ Year + 1\n",
      "0.0419416734499\n",
      "\n",
      "Gross ~ Runtime + 1\n",
      "0.00953349317663\n",
      "\n",
      "Gross ~ ReleaseDate + OpeningWkd + 1\n",
      "0.976518365651\n",
      "\n",
      "Gross ~ ReleaseDate + Title + 1\n",
      "nan\n",
      "\n",
      "Gross ~ ReleaseDate + Budget + 1\n",
      "0.796727035248\n",
      "\n",
      "Gross ~ ReleaseDate + Metascore + 1\n",
      "0.994377928236\n",
      "\n",
      "Gross ~ ReleaseDate + Year + 1\n",
      "0.812705286206\n",
      "\n",
      "Gross ~ ReleaseDate + Runtime + 1\n",
      "0.645843426339\n",
      "\n",
      "Gross ~ ReleaseDate + Metascore + OpeningWkd + 1\n",
      "nan\n",
      "\n",
      "Gross ~ ReleaseDate + Metascore + Title + 1\n",
      "nan\n",
      "\n",
      "Gross ~ ReleaseDate + Metascore + Budget + 1\n",
      "nan\n",
      "\n",
      "Gross ~ ReleaseDate + Metascore + Year + 1\n",
      "nan\n",
      "\n",
      "Gross ~ ReleaseDate + Metascore + Runtime + 1\n",
      "nan\n",
      "\n"
     ]
    }
   ],
   "source": [
    "cleanmodel = forward_selected(logcleandf, 'Gross')"
   ]
  },
  {
   "cell_type": "code",
   "execution_count": 9,
   "metadata": {
    "collapsed": false
   },
   "outputs": [
    {
     "name": "stdout",
     "output_type": "stream",
     "text": [
      "Gross ~ ReleaseDate + Metascore + 1\n",
      "0.994377928236\n"
     ]
    }
   ],
   "source": [
    "print cleanmodel.model.formula\n",
    "print cleanmodel.rsquared_adj"
   ]
  },
  {
   "cell_type": "code",
   "execution_count": 11,
   "metadata": {
    "collapsed": false
   },
   "outputs": [],
   "source": [
    "noRelease = logcleandf[['Budget', 'Gross', 'Year', 'Runtime', 'Metascore', 'OpeningWkd']]"
   ]
  },
  {
   "cell_type": "code",
   "execution_count": 11,
   "metadata": {
    "collapsed": false
   },
   "outputs": [
    {
     "name": "stdout",
     "output_type": "stream",
     "text": [
      "Gross ~ OpeningWkd + 1\n",
      "0.406215698011\n",
      "\n",
      "Gross ~ Budget + 1\n",
      "0.108143123598\n",
      "\n",
      "Gross ~ Metascore + 1\n",
      "-0.00547814159567\n",
      "\n",
      "Gross ~ Year + 1\n",
      "0.0419416734499\n",
      "\n",
      "Gross ~ Runtime + 1\n",
      "0.00953349317663\n",
      "\n",
      "Gross ~ OpeningWkd + Budget + 1\n",
      "0.406276105507\n",
      "\n",
      "Gross ~ OpeningWkd + Metascore + 1\n",
      "0.404191579429\n",
      "\n",
      "Gross ~ OpeningWkd + Year + 1\n",
      "0.428285003224\n",
      "\n",
      "Gross ~ OpeningWkd + Runtime + 1\n",
      "0.407708765718\n",
      "\n",
      "Gross ~ OpeningWkd + Year + Budget + 1\n",
      "0.42755670803\n",
      "\n",
      "Gross ~ OpeningWkd + Year + Metascore + 1\n",
      "0.428046543723\n",
      "\n",
      "Gross ~ OpeningWkd + Year + Runtime + 1\n",
      "0.426636822706\n",
      "\n"
     ]
    }
   ],
   "source": [
    "meowdel = forward_selected(noRelease,'Gross')\n"
   ]
  },
  {
   "cell_type": "code",
   "execution_count": 12,
   "metadata": {
    "collapsed": false
   },
   "outputs": [
    {
     "name": "stdout",
     "output_type": "stream",
     "text": [
      "Gross ~ OpeningWkd + Year + 1\n"
     ]
    },
    {
     "data": {
      "text/plain": [
       "0.42828500322363228"
      ]
     },
     "execution_count": 12,
     "metadata": {},
     "output_type": "execute_result"
    }
   ],
   "source": [
    "print meowdel.model.formula\n",
    "meowdel.rsquared_adj\n"
   ]
  },
  {
   "cell_type": "code",
   "execution_count": null,
   "metadata": {
    "collapsed": true
   },
   "outputs": [],
   "source": []
  },
  {
   "cell_type": "code",
   "execution_count": null,
   "metadata": {
    "collapsed": true
   },
   "outputs": [],
   "source": []
  },
  {
   "cell_type": "code",
   "execution_count": null,
   "metadata": {
    "collapsed": true
   },
   "outputs": [],
   "source": []
  },
  {
   "cell_type": "code",
   "execution_count": null,
   "metadata": {
    "collapsed": true
   },
   "outputs": [],
   "source": []
  },
  {
   "cell_type": "code",
   "execution_count": null,
   "metadata": {
    "collapsed": true
   },
   "outputs": [],
   "source": []
  },
  {
   "cell_type": "code",
   "execution_count": null,
   "metadata": {
    "collapsed": true
   },
   "outputs": [],
   "source": []
  },
  {
   "cell_type": "code",
   "execution_count": null,
   "metadata": {
    "collapsed": true
   },
   "outputs": [],
   "source": []
  },
  {
   "cell_type": "code",
   "execution_count": null,
   "metadata": {
    "collapsed": true
   },
   "outputs": [],
   "source": []
  },
  {
   "cell_type": "code",
   "execution_count": null,
   "metadata": {
    "collapsed": false
   },
   "outputs": [],
   "source": [
    "y, X = dmatrices('Gross ~ Budget + Year + ReleaseDate + OpeningWkd + Runtime + Metascore', data = df, return_type = 'dataframe')"
   ]
  },
  {
   "cell_type": "code",
   "execution_count": null,
   "metadata": {
    "collapsed": false
   },
   "outputs": [],
   "source": [
    "X_train, X_test, y_train, y_test = train_test_split(X, y, test_size=0.2, random_state=1234)\n",
    "len(X_train)"
   ]
  },
  {
   "cell_type": "code",
   "execution_count": null,
   "metadata": {
    "collapsed": true
   },
   "outputs": [],
   "source": []
  },
  {
   "cell_type": "code",
   "execution_count": null,
   "metadata": {
    "collapsed": false
   },
   "outputs": [],
   "source": [
    "axes = pandas.tools.plotting.scatter_matrix(cleandf, alpha=0.2)"
   ]
  },
  {
   "cell_type": "code",
   "execution_count": null,
   "metadata": {
    "collapsed": false
   },
   "outputs": [],
   "source": [
    "plt.tight_layout()\n",
    "\n",
    "plt.show()\n"
   ]
  },
  {
   "cell_type": "code",
   "execution_count": null,
   "metadata": {
    "collapsed": true
   },
   "outputs": [],
   "source": [
    "model = sm.OLS(y,X)"
   ]
  },
  {
   "cell_type": "code",
   "execution_count": null,
   "metadata": {
    "collapsed": false
   },
   "outputs": [],
   "source": [
    "results = model.fit()"
   ]
  },
  {
   "cell_type": "code",
   "execution_count": null,
   "metadata": {
    "collapsed": false
   },
   "outputs": [],
   "source": [
    "print type(model)\n",
    "print type(results)"
   ]
  },
  {
   "cell_type": "code",
   "execution_count": null,
   "metadata": {
    "collapsed": false
   },
   "outputs": [],
   "source": [
    "results.summary()"
   ]
  },
  {
   "cell_type": "code",
   "execution_count": null,
   "metadata": {
    "collapsed": true
   },
   "outputs": [],
   "source": [
    "results = smf.ols(formula = \"Gross ~ Budget + OpeningWkd + Runtime + Year + Metascore\", data = df).fit()"
   ]
  },
  {
   "cell_type": "code",
   "execution_count": null,
   "metadata": {
    "collapsed": false
   },
   "outputs": [],
   "source": [
    "print results.params"
   ]
  },
  {
   "cell_type": "code",
   "execution_count": null,
   "metadata": {
    "collapsed": false
   },
   "outputs": [],
   "source": [
    "\n",
    "\n",
    "model = LinearRegression()\n",
    "model.fit(X, y)"
   ]
  },
  {
   "cell_type": "code",
   "execution_count": null,
   "metadata": {
    "collapsed": false
   },
   "outputs": [],
   "source": [
    "model.score(X,y)"
   ]
  },
  {
   "cell_type": "code",
   "execution_count": null,
   "metadata": {
    "collapsed": false
   },
   "outputs": [],
   "source": [
    "model.coef_"
   ]
  },
  {
   "cell_type": "code",
   "execution_count": null,
   "metadata": {
    "collapsed": false
   },
   "outputs": [],
   "source": [
    "model.intercept_"
   ]
  },
  {
   "cell_type": "code",
   "execution_count": null,
   "metadata": {
    "collapsed": false
   },
   "outputs": [],
   "source": [
    "\n",
    "plt.plot(y.sort('Gross'), X.sort(['Budget']), alpha = 0.5)\n",
    "plt.show()"
   ]
  },
  {
   "cell_type": "code",
   "execution_count": null,
   "metadata": {
    "collapsed": true
   },
   "outputs": [],
   "source": []
  },
  {
   "cell_type": "code",
   "execution_count": null,
   "metadata": {
    "collapsed": true
   },
   "outputs": [],
   "source": []
  },
  {
   "cell_type": "code",
   "execution_count": null,
   "metadata": {
    "collapsed": true
   },
   "outputs": [],
   "source": []
  },
  {
   "cell_type": "code",
   "execution_count": null,
   "metadata": {
    "collapsed": true
   },
   "outputs": [],
   "source": []
  },
  {
   "cell_type": "code",
   "execution_count": null,
   "metadata": {
    "collapsed": true
   },
   "outputs": [],
   "source": []
  },
  {
   "cell_type": "code",
   "execution_count": null,
   "metadata": {
    "collapsed": true
   },
   "outputs": [],
   "source": []
  },
  {
   "cell_type": "code",
   "execution_count": null,
   "metadata": {
    "collapsed": false
   },
   "outputs": [],
   "source": []
  },
  {
   "cell_type": "code",
   "execution_count": null,
   "metadata": {
    "collapsed": true
   },
   "outputs": [],
   "source": []
  },
  {
   "cell_type": "code",
   "execution_count": 39,
   "metadata": {
    "collapsed": false
   },
   "outputs": [
    {
     "data": {
      "image/png": "[encoded data removed]",
      "text/plain": [
       "<matplotlib.figure.Figure at 0x7f3bfb2f0d50>"
      ]
     },
     "metadata": {},
     "output_type": "display_data"
    }
   ],
   "source": [
    "pair=sns.pairplot(noRelease, x_vars = ['Budget', 'OpeningWkd', 'Metascore', 'Runtime', 'Year'], y_vars = ['Gross'], \n",
    "             size = 5, aspect =.8, kind = 'reg')"
   ]
  },
  {
   "cell_type": "code",
   "execution_count": null,
   "metadata": {
    "collapsed": false
   },
   "outputs": [],
   "source": []
  },
  {
   "cell_type": "code",
   "execution_count": null,
   "metadata": {
    "collapsed": true
   },
   "outputs": [],
   "source": []
  },
  {
   "cell_type": "code",
   "execution_count": null,
   "metadata": {
    "collapsed": true
   },
   "outputs": [],
   "source": []
  },
  {
   "cell_type": "code",
   "execution_count": null,
   "metadata": {
    "collapsed": true
   },
   "outputs": [],
   "source": [
    "g = sns.PairGrid(iris)\n",
    ">>> g = g.map(plt.scatter)"
   ]
  },
  {
   "cell_type": "code",
   "execution_count": 17,
   "metadata": {
    "collapsed": false
   },
   "outputs": [
    {
     "data": {
      "image/png": "[encoded data removed]",
      "text/plain": [
       "<matplotlib.figure.Figure at 0x7f3bfa843e90>"
      ]
     },
     "metadata": {},
     "output_type": "display_data"
    }
   ],
   "source": [
    "\n",
    "g = sns.PairGrid(noRelease)\n",
    "#g = g.map(plt.scatter)\n",
    "\n",
    "g = g.map_offdiag(plt.scatter)\n",
    "g = g.map_diag(plt.hist)"
   ]
  },
  {
   "cell_type": "code",
   "execution_count": 26,
   "metadata": {
    "collapsed": true
   },
   "outputs": [
    {
     "ename": "AttributeError",
     "evalue": "'PairGrid' object has no attribute 'plt'",
     "output_type": "error",
     "traceback": [
      "\u001b[1;31m---------------------------------------------------------------------------\u001b[0m",
      "\u001b[1;31mAttributeError\u001b[0m                            Traceback (most recent call last)",
      "\u001b[1;32m<ipython-input-26-899fa13a5056>\u001b[0m in \u001b[0;36m<module>\u001b[1;34m()\u001b[0m\n\u001b[1;32m----> 1\u001b[1;33m \u001b[0mg\u001b[0m\u001b[1;33m.\u001b[0m\u001b[0mplt\u001b[0m\u001b[1;33m.\u001b[0m\u001b[0mshow\u001b[0m\u001b[1;33m(\u001b[0m\u001b[1;33m)\u001b[0m\u001b[1;33m\u001b[0m\u001b[0m\n\u001b[0m",
      "\u001b[1;31mAttributeError\u001b[0m: 'PairGrid' object has no attribute 'plt'"
     ]
    }
   ],
   "source": [
    "g.plt.show()"
   ]
  },
  {
   "cell_type": "code",
   "execution_count": null,
   "metadata": {
    "collapsed": true
   },
   "outputs": [],
   "source": []
  },
  {
   "cell_type": "code",
   "execution_count": null,
   "metadata": {
    "collapsed": false
   },
   "outputs": [],
   "source": []
  },
  {
   "cell_type": "code",
   "execution_count": null,
   "metadata": {
    "collapsed": false
   },
   "outputs": [],
   "source": []
  },
  {
   "cell_type": "code",
   "execution_count": null,
   "metadata": {
    "collapsed": true
   },
   "outputs": [],
   "source": []
  },
  {
   "cell_type": "code",
   "execution_count": null,
   "metadata": {
    "collapsed": true
   },
   "outputs": [],
   "source": [
    "Y = 2000 # dummy leap year to allow input X-02-29 (leap day)\n",
    "seasons = [('winter', (date(Y,  1,  1),  date(Y,  3, 20))),\n",
    "           ('spring', (date(Y,  3, 21),  date(Y,  6, 20))),\n",
    "           ('summer', (date(Y,  6, 21),  date(Y,  9, 22))),\n",
    "           ('autumn', (date(Y,  9, 23),  date(Y, 12, 20))),\n",
    "           ('winter', (date(Y, 12, 21),  date(Y, 12, 31)))]\n",
    "\n",
    "def get_season(now):\n",
    "    if isinstance(now, datetime):\n",
    "        now = now.date()\n",
    "    now = now.replace(year=Y)\n",
    "    return next(season for season, (start, end) in seasons\n",
    "                if start <= now <= end)\n",
    "\n",
    "print(get_season(date.today()))"
   ]
  },
  {
   "cell_type": "code",
   "execution_count": null,
   "metadata": {
    "collapsed": true
   },
   "outputs": [],
   "source": []
  },
  {
   "cell_type": "code",
   "execution_count": null,
   "metadata": {
    "collapsed": true
   },
   "outputs": [],
   "source": []
  },
  {
   "cell_type": "code",
   "execution_count": null,
   "metadata": {
    "collapsed": true
   },
   "outputs": [],
   "source": []
  },
  {
   "cell_type": "code",
   "execution_count": null,
   "metadata": {
    "collapsed": true
   },
   "outputs": [],
   "source": []
  },
  {
   "cell_type": "code",
   "execution_count": null,
   "metadata": {
    "collapsed": true
   },
   "outputs": [],
   "source": []
  }
 ],
 "metadata": {
  "kernelspec": {
   "display_name": "Python 2",
   "language": "python",
   "name": "python2"
  },
  "language_info": {
   "codemirror_mode": {
    "name": "ipython",
    "version": 2
   },
   "file_extension": ".py",
   "mimetype": "text/x-python",
   "name": "python",
   "nbconvert_exporter": "python",
   "pygments_lexer": "ipython2",
   "version": "2.7.10"
  }
 },
 "nbformat": 4,
 "nbformat_minor": 0
}
